{
 "cells": [
  {
   "cell_type": "markdown",
   "metadata": {},
   "source": [
    "# Exercício 2\n",
    "\n",
    "Nesse exercício você usará a tabela dos jogos do campeonato brasileiro de 2018 (brasileiro2018.csv) e a tabela com a classificação final do campeonato brasileiro do mesmo ano (classificacao2018.csv)."
   ]
  },
  {
   "cell_type": "code",
   "execution_count": 1,
   "metadata": {},
   "outputs": [],
   "source": [
    "import matplotlib.pyplot as plt\n",
    "import pandas as pd\n",
    "import numpy as np"
   ]
  },
  {
   "cell_type": "code",
   "execution_count": 2,
   "metadata": {},
   "outputs": [
    {
     "data": {
      "text/html": [
       "<div>\n",
       "<style scoped>\n",
       "    .dataframe tbody tr th:only-of-type {\n",
       "        vertical-align: middle;\n",
       "    }\n",
       "\n",
       "    .dataframe tbody tr th {\n",
       "        vertical-align: top;\n",
       "    }\n",
       "\n",
       "    .dataframe thead th {\n",
       "        text-align: right;\n",
       "    }\n",
       "</style>\n",
       "<table border=\"1\" class=\"dataframe\">\n",
       "  <thead>\n",
       "    <tr style=\"text-align: right;\">\n",
       "      <th></th>\n",
       "      <th>casa</th>\n",
       "      <th>gols_c</th>\n",
       "      <th>gols_v</th>\n",
       "      <th>visitante</th>\n",
       "      <th>pp</th>\n",
       "      <th>iv</th>\n",
       "      <th>iv%</th>\n",
       "      <th>renda_L</th>\n",
       "      <th>renda_B</th>\n",
       "    </tr>\n",
       "  </thead>\n",
       "  <tbody>\n",
       "    <tr>\n",
       "      <th>0</th>\n",
       "      <td>São Paulo-SP</td>\n",
       "      <td>1</td>\n",
       "      <td>0</td>\n",
       "      <td>Paraná-PR</td>\n",
       "      <td>11.327</td>\n",
       "      <td>15.437</td>\n",
       "      <td>73</td>\n",
       "      <td>R$ 140.284,04</td>\n",
       "      <td>R$ 338.295,00</td>\n",
       "    </tr>\n",
       "    <tr>\n",
       "      <th>1</th>\n",
       "      <td>Botafogo-RJ</td>\n",
       "      <td>1</td>\n",
       "      <td>1</td>\n",
       "      <td>Palmeiras-SP</td>\n",
       "      <td>7.020</td>\n",
       "      <td>7.515</td>\n",
       "      <td>93</td>\n",
       "      <td>R$ -200.131,47</td>\n",
       "      <td>R$ 207.880,00</td>\n",
       "    </tr>\n",
       "    <tr>\n",
       "      <th>2</th>\n",
       "      <td>Athletico Paranaense-PR</td>\n",
       "      <td>5</td>\n",
       "      <td>1</td>\n",
       "      <td>Chapecoense-SC</td>\n",
       "      <td>8.395</td>\n",
       "      <td>8.395</td>\n",
       "      <td>100</td>\n",
       "      <td>R$ -77.837,78</td>\n",
       "      <td>R$ 130.015,00</td>\n",
       "    </tr>\n",
       "    <tr>\n",
       "      <th>3</th>\n",
       "      <td>Internacional-RS</td>\n",
       "      <td>2</td>\n",
       "      <td>0</td>\n",
       "      <td>Bahia-BA</td>\n",
       "      <td>18.460</td>\n",
       "      <td>18.460</td>\n",
       "      <td>100</td>\n",
       "      <td>R$ 524.782,95</td>\n",
       "      <td>R$ 796.275,00</td>\n",
       "    </tr>\n",
       "    <tr>\n",
       "      <th>4</th>\n",
       "      <td>Corinthians-SP</td>\n",
       "      <td>2</td>\n",
       "      <td>1</td>\n",
       "      <td>Fluminense-RJ</td>\n",
       "      <td>28.777</td>\n",
       "      <td>28.777</td>\n",
       "      <td>100</td>\n",
       "      <td>R$ 871.251,02</td>\n",
       "      <td>R$ 1.372.018,06</td>\n",
       "    </tr>\n",
       "  </tbody>\n",
       "</table>\n",
       "</div>"
      ],
      "text/plain": [
       "                      casa  gols_c  gols_v       visitante      pp      iv  \\\n",
       "0             São Paulo-SP       1       0       Paraná-PR  11.327  15.437   \n",
       "1              Botafogo-RJ       1       1    Palmeiras-SP   7.020   7.515   \n",
       "2  Athletico Paranaense-PR       5       1  Chapecoense-SC   8.395   8.395   \n",
       "3         Internacional-RS       2       0        Bahia-BA  18.460  18.460   \n",
       "4           Corinthians-SP       2       1   Fluminense-RJ  28.777  28.777   \n",
       "\n",
       "   iv%         renda_L          renda_B  \n",
       "0   73   R$ 140.284,04    R$ 338.295,00  \n",
       "1   93  R$ -200.131,47    R$ 207.880,00  \n",
       "2  100   R$ -77.837,78    R$ 130.015,00  \n",
       "3  100   R$ 524.782,95    R$ 796.275,00  \n",
       "4  100   R$ 871.251,02  R$ 1.372.018,06  "
      ]
     },
     "execution_count": 2,
     "metadata": {},
     "output_type": "execute_result"
    }
   ],
   "source": [
    "df = pd.read_csv('brasileiro2018.csv')\n",
    "df.columns = ['casa', 'gols_c', 'gols_v', 'visitante', 'pp', 'iv', 'iv%', 'renda_L', 'renda_B']\n",
    "df.head()\n",
    "\n",
    "# casa = time dono do mando de campo\n",
    "# gols_c = gols do time da casa\n",
    "# visitante = time visitante\n",
    "# gols_v = gols do time visitante\n",
    "# pp = público presente\n",
    "# iv = ingressos vendidos\n",
    "# iv% = porcentagem de ingressos vendidos\n",
    "# renda_L = renda líquida do jogo\n",
    "# renda_B = renda bruta do jogo\n",
    "\n",
    "#print('size:', df.shape)"
   ]
  },
  {
   "cell_type": "code",
   "execution_count": 3,
   "metadata": {},
   "outputs": [
    {
     "data": {
      "text/html": [
       "<div>\n",
       "<style scoped>\n",
       "    .dataframe tbody tr th:only-of-type {\n",
       "        vertical-align: middle;\n",
       "    }\n",
       "\n",
       "    .dataframe tbody tr th {\n",
       "        vertical-align: top;\n",
       "    }\n",
       "\n",
       "    .dataframe thead th {\n",
       "        text-align: right;\n",
       "    }\n",
       "</style>\n",
       "<table border=\"1\" class=\"dataframe\">\n",
       "  <thead>\n",
       "    <tr style=\"text-align: right;\">\n",
       "      <th></th>\n",
       "      <th>time</th>\n",
       "      <th>P</th>\n",
       "      <th>J</th>\n",
       "      <th>V</th>\n",
       "      <th>E</th>\n",
       "      <th>D</th>\n",
       "      <th>GP</th>\n",
       "      <th>GC</th>\n",
       "      <th>SG</th>\n",
       "      <th>classificação</th>\n",
       "    </tr>\n",
       "  </thead>\n",
       "  <tbody>\n",
       "    <tr>\n",
       "      <th>0</th>\n",
       "      <td>Palmeiras</td>\n",
       "      <td>80</td>\n",
       "      <td>38</td>\n",
       "      <td>23</td>\n",
       "      <td>11</td>\n",
       "      <td>4</td>\n",
       "      <td>64</td>\n",
       "      <td>26</td>\n",
       "      <td>38</td>\n",
       "      <td>1</td>\n",
       "    </tr>\n",
       "    <tr>\n",
       "      <th>1</th>\n",
       "      <td>Flamengo</td>\n",
       "      <td>72</td>\n",
       "      <td>38</td>\n",
       "      <td>21</td>\n",
       "      <td>9</td>\n",
       "      <td>8</td>\n",
       "      <td>59</td>\n",
       "      <td>29</td>\n",
       "      <td>30</td>\n",
       "      <td>2</td>\n",
       "    </tr>\n",
       "    <tr>\n",
       "      <th>2</th>\n",
       "      <td>Internacional</td>\n",
       "      <td>69</td>\n",
       "      <td>38</td>\n",
       "      <td>19</td>\n",
       "      <td>12</td>\n",
       "      <td>7</td>\n",
       "      <td>51</td>\n",
       "      <td>29</td>\n",
       "      <td>22</td>\n",
       "      <td>3</td>\n",
       "    </tr>\n",
       "    <tr>\n",
       "      <th>3</th>\n",
       "      <td>Grêmio</td>\n",
       "      <td>66</td>\n",
       "      <td>38</td>\n",
       "      <td>18</td>\n",
       "      <td>12</td>\n",
       "      <td>8</td>\n",
       "      <td>48</td>\n",
       "      <td>27</td>\n",
       "      <td>21</td>\n",
       "      <td>4</td>\n",
       "    </tr>\n",
       "    <tr>\n",
       "      <th>4</th>\n",
       "      <td>São Paulo</td>\n",
       "      <td>63</td>\n",
       "      <td>38</td>\n",
       "      <td>16</td>\n",
       "      <td>15</td>\n",
       "      <td>7</td>\n",
       "      <td>46</td>\n",
       "      <td>34</td>\n",
       "      <td>12</td>\n",
       "      <td>5</td>\n",
       "    </tr>\n",
       "  </tbody>\n",
       "</table>\n",
       "</div>"
      ],
      "text/plain": [
       "             time   P   J   V   E  D  GP  GC  SG  classificação\n",
       "0      Palmeiras   80  38  23  11  4  64  26  38              1\n",
       "1       Flamengo   72  38  21   9  8  59  29  30              2\n",
       "2  Internacional   69  38  19  12  7  51  29  22              3\n",
       "3         Grêmio   66  38  18  12  8  48  27  21              4\n",
       "4      São Paulo   63  38  16  15  7  46  34  12              5"
      ]
     },
     "execution_count": 3,
     "metadata": {},
     "output_type": "execute_result"
    }
   ],
   "source": [
    "df2 = pd.read_csv('classificacao2018.csv')\n",
    "df2.columns = ['time', 'P', 'J', 'V', 'E', 'D', 'GP', 'GC', 'SG']\n",
    "df2 = pd.concat([df2, pd.DataFrame({'classificação': np.arange(1, len(df2)+1)})], axis = 1)\n",
    "df2.head()\n",
    "\n",
    "# P = pontos\n",
    "# J = jogos\n",
    "# V = vitórias\n",
    "# E = empates\n",
    "# D = derrotas\n",
    "# GP = gols pró\n",
    "# GC = gols contra\n",
    "# SG = saldo de gols\n",
    "\n",
    "#print('size:', df2.shape)"
   ]
  },
  {
   "cell_type": "markdown",
   "metadata": {},
   "source": [
    "### Problema\n",
    "\n",
    "Dados dois times e o mandante da partida, é possível criar um classificador que preveja o time vencedor?\n",
    "\n",
    "\n",
    "#### Questão 1\n",
    "\n",
    "Compare o resultado dos classificadores vistos em aula com o classificador *dummy*.\n",
    "\n",
    "Faça uma análise da acurácia, precisão e recall por meio de tabelas e plots.\n",
    "\n",
    "Utilizando os métodos de busca vistos em aula, tente maximizar a acurácia na previsão dos jogos onde o time visitante vence a partida.\n",
    "\n",
    "Utilizando dados de tendências, isto é, se um time vem de vitórias (ou derrotas) nas últimas partidas, é possível melhorar as previsões?\n",
    "\n",
    "Existe alguma outra informação que possa ser relevante para melhorar as previsões?\n",
    "\n",
    "Por fim, usando apenas os 300 primeiros jogos para treino, é possível, baseado nas previsões feitas, estimar o ranking final dos times? \n",
    "Qual é o erro da estimativa feita e da classifição final?\n",
    "O erro é dado pelo somatório do quadrado das diferenças entre a classificação estimada e a real.\n",
    "\n",
    "#### Questão 2\n",
    "\n",
    "Um empresário está em busca de um time do campeonato brasileiro para fechar uma parceria.\n",
    "\n",
    "A parceria consiste no fornecimento de transporte e hospedagem para todos os jogos onde o time é visitante, e em contra partida o time se propõe a utilizar a logo da empresa nesses jogos e dividir a renda líquida dos jogos em 80% para o clube e 20% para a empresa.\n",
    "\n",
    "Baseado nos dados do primeiro turno do campeonato de 2018 (isto é, os 190 primeiros jogos), faça uma lista de recomendação com as três melhores opções de time para patrocinar.\n",
    "\n",
    "Suponha que a empresa consiga faturar em média 2 reais por torcedor presente.\n",
    "\n",
    "Escolhendo a melhor opção de time para investir, faça uma análise se a opção escolhida continuou a ser boa nos 190 jogos restantes."
   ]
  },
  {
   "cell_type": "markdown",
   "metadata": {},
   "source": [
    "### Questão 1"
   ]
  },
  {
   "cell_type": "markdown",
   "metadata": {},
   "source": [
    "#### 1. Construção da base de treino"
   ]
  },
  {
   "cell_type": "markdown",
   "metadata": {},
   "source": [
    "##### 1.1 Correção dos nomes"
   ]
  },
  {
   "cell_type": "code",
   "execution_count": 4,
   "metadata": {},
   "outputs": [
    {
     "data": {
      "text/plain": [
       "array(['São Paulo-SP', 'Botafogo-RJ', 'Athletico Paranaense-PR',\n",
       "       'Internacional-RS', 'Corinthians-SP', 'Vasco-RJ',\n",
       "       'América Mineiro-MG', 'Santos-SP', 'Vitória-BA', 'Cruzeiro-MG',\n",
       "       'Sport-PE', 'Grêmio-RS', 'Palmeiras-SP', 'Ceará-CE',\n",
       "       'Fluminense-RJ', 'Chapecoense-SC', 'Atlético Mineiro-MG',\n",
       "       'Paraná-PR', 'Flamengo-RJ', 'Bahia-BA'], dtype=object)"
      ]
     },
     "execution_count": 4,
     "metadata": {},
     "output_type": "execute_result"
    }
   ],
   "source": [
    "df['casa'].unique()"
   ]
  },
  {
   "cell_type": "code",
   "execution_count": 5,
   "metadata": {},
   "outputs": [
    {
     "data": {
      "text/plain": [
       "array(['Palmeiras ', 'Flamengo ', 'Internacional ', 'Grêmio ',\n",
       "       'São Paulo ', 'Atlético-MG ', 'Athletico ', 'Cruzeiro ',\n",
       "       'Botafogo ', 'Santos ', 'Bahia ', 'Fluminense ', 'Corinthians ',\n",
       "       'Chapecoense ', 'Ceará ', 'Vasco ', 'Sport ', 'América-MG ',\n",
       "       'Vitória ', 'Paraná '], dtype=object)"
      ]
     },
     "execution_count": 5,
     "metadata": {},
     "output_type": "execute_result"
    }
   ],
   "source": [
    "df2['time'].unique()"
   ]
  },
  {
   "cell_type": "code",
   "execution_count": 6,
   "metadata": {},
   "outputs": [],
   "source": [
    "def corrigeNome(nome):\n",
    "    nome = nome.strip()\n",
    "    nomes={\n",
    "        'Palmeiras': 'Palmeiras-SP',\n",
    "        'Flamengo': 'Flamengo-RJ',\n",
    "        'Internacional': 'Internacional-RS',\n",
    "        'Grêmio': 'Grêmio-RS',\n",
    "        'São Paulo': 'São Paulo-SP',\n",
    "        'Cruzeiro': 'Cruzeiro-MG',\n",
    "        'Botafogo': 'Botafogo-RJ',\n",
    "        'Santos': 'Santos-SP',\n",
    "        'Bahia': 'Bahia-BA',\n",
    "        'Fluminense': 'Fluminense-RJ',\n",
    "        'Corinthians': 'Corinthians-SP',\n",
    "        'Chapecoense': 'Chapecoense-SC',\n",
    "        'Ceará': 'Ceará-CE',\n",
    "        'Vasco': 'Vasco-RJ',\n",
    "        'Sport': 'Sport-PE',\n",
    "        'Vitória': 'Vitória-BA',\n",
    "        'Paraná': 'Paraná-PR',\n",
    "        'Atlético-MG': 'Atlético Mineiro-MG',\n",
    "        'Athletico': 'Athletico Paranaense-PR',\n",
    "        'América-MG': 'América Mineiro-MG',\n",
    "    }\n",
    "    return nomes[nome]"
   ]
  },
  {
   "cell_type": "code",
   "execution_count": 7,
   "metadata": {},
   "outputs": [],
   "source": [
    "df2['time'] = df2['time'].apply(corrigeNome)"
   ]
  },
  {
   "cell_type": "code",
   "execution_count": 8,
   "metadata": {},
   "outputs": [
    {
     "data": {
      "text/html": [
       "<div>\n",
       "<style scoped>\n",
       "    .dataframe tbody tr th:only-of-type {\n",
       "        vertical-align: middle;\n",
       "    }\n",
       "\n",
       "    .dataframe tbody tr th {\n",
       "        vertical-align: top;\n",
       "    }\n",
       "\n",
       "    .dataframe thead th {\n",
       "        text-align: right;\n",
       "    }\n",
       "</style>\n",
       "<table border=\"1\" class=\"dataframe\">\n",
       "  <thead>\n",
       "    <tr style=\"text-align: right;\">\n",
       "      <th></th>\n",
       "      <th>time</th>\n",
       "      <th>P</th>\n",
       "      <th>J</th>\n",
       "      <th>V</th>\n",
       "      <th>E</th>\n",
       "      <th>D</th>\n",
       "      <th>GP</th>\n",
       "      <th>GC</th>\n",
       "      <th>SG</th>\n",
       "      <th>classificação</th>\n",
       "    </tr>\n",
       "  </thead>\n",
       "  <tbody>\n",
       "    <tr>\n",
       "      <th>0</th>\n",
       "      <td>Palmeiras-SP</td>\n",
       "      <td>80</td>\n",
       "      <td>38</td>\n",
       "      <td>23</td>\n",
       "      <td>11</td>\n",
       "      <td>4</td>\n",
       "      <td>64</td>\n",
       "      <td>26</td>\n",
       "      <td>38</td>\n",
       "      <td>1</td>\n",
       "    </tr>\n",
       "    <tr>\n",
       "      <th>1</th>\n",
       "      <td>Flamengo-RJ</td>\n",
       "      <td>72</td>\n",
       "      <td>38</td>\n",
       "      <td>21</td>\n",
       "      <td>9</td>\n",
       "      <td>8</td>\n",
       "      <td>59</td>\n",
       "      <td>29</td>\n",
       "      <td>30</td>\n",
       "      <td>2</td>\n",
       "    </tr>\n",
       "    <tr>\n",
       "      <th>2</th>\n",
       "      <td>Internacional-RS</td>\n",
       "      <td>69</td>\n",
       "      <td>38</td>\n",
       "      <td>19</td>\n",
       "      <td>12</td>\n",
       "      <td>7</td>\n",
       "      <td>51</td>\n",
       "      <td>29</td>\n",
       "      <td>22</td>\n",
       "      <td>3</td>\n",
       "    </tr>\n",
       "    <tr>\n",
       "      <th>3</th>\n",
       "      <td>Grêmio-RS</td>\n",
       "      <td>66</td>\n",
       "      <td>38</td>\n",
       "      <td>18</td>\n",
       "      <td>12</td>\n",
       "      <td>8</td>\n",
       "      <td>48</td>\n",
       "      <td>27</td>\n",
       "      <td>21</td>\n",
       "      <td>4</td>\n",
       "    </tr>\n",
       "    <tr>\n",
       "      <th>4</th>\n",
       "      <td>São Paulo-SP</td>\n",
       "      <td>63</td>\n",
       "      <td>38</td>\n",
       "      <td>16</td>\n",
       "      <td>15</td>\n",
       "      <td>7</td>\n",
       "      <td>46</td>\n",
       "      <td>34</td>\n",
       "      <td>12</td>\n",
       "      <td>5</td>\n",
       "    </tr>\n",
       "  </tbody>\n",
       "</table>\n",
       "</div>"
      ],
      "text/plain": [
       "               time   P   J   V   E  D  GP  GC  SG  classificação\n",
       "0      Palmeiras-SP  80  38  23  11  4  64  26  38              1\n",
       "1       Flamengo-RJ  72  38  21   9  8  59  29  30              2\n",
       "2  Internacional-RS  69  38  19  12  7  51  29  22              3\n",
       "3         Grêmio-RS  66  38  18  12  8  48  27  21              4\n",
       "4      São Paulo-SP  63  38  16  15  7  46  34  12              5"
      ]
     },
     "execution_count": 8,
     "metadata": {},
     "output_type": "execute_result"
    }
   ],
   "source": [
    "df2.head()"
   ]
  },
  {
   "cell_type": "markdown",
   "metadata": {},
   "source": [
    "##### 1.2 VIzualização dos dados"
   ]
  },
  {
   "cell_type": "code",
   "execution_count": 9,
   "metadata": {},
   "outputs": [],
   "source": [
    "import seaborn as sns\n",
    "sns.set()\n",
    "%matplotlib inline"
   ]
  },
  {
   "cell_type": "code",
   "execution_count": 10,
   "metadata": {
    "scrolled": false
   },
   "outputs": [
    {
     "name": "stderr",
     "output_type": "stream",
     "text": [
      "/home/lucasnseq/anaconda3/lib/python3.7/site-packages/numpy/core/_methods.py:140: RuntimeWarning: Degrees of freedom <= 0 for slice\n",
      "  keepdims=keepdims)\n",
      "/home/lucasnseq/anaconda3/lib/python3.7/site-packages/numpy/core/_methods.py:132: RuntimeWarning: invalid value encountered in double_scalars\n",
      "  ret = ret.dtype.type(ret / rcount)\n"
     ]
    },
    {
     "data": {
      "text/plain": [
       "<seaborn.axisgrid.PairGrid at 0x7f1e749a66d8>"
      ]
     },
     "execution_count": 10,
     "metadata": {},
     "output_type": "execute_result"
    },
    {
     "data": {
      "image/png": "[encoded data removed]",
      "text/plain": [
       "<Figure size 1255.6x1080 with 42 Axes>"
      ]
     },
     "metadata": {
      "needs_background": "light"
     },
     "output_type": "display_data"
    }
   ],
   "source": [
    "sns.pairplot(df2, hue = 'time', vars = ['P', 'V', 'E', 'D', 'SG', 'GC'], palette = 'cool')"
   ]
  },
  {
   "cell_type": "code",
   "execution_count": 11,
   "metadata": {},
   "outputs": [
    {
     "data": {
      "text/plain": [
       "<matplotlib.axes._subplots.AxesSubplot at 0x7f1e722ad898>"
      ]
     },
     "execution_count": 11,
     "metadata": {},
     "output_type": "execute_result"
    },
    {
     "data": {
      "image/png": "[encoded data removed]",
      "text/plain": [
       "<Figure size 720x576 with 2 Axes>"
      ]
     },
     "metadata": {
      "needs_background": "light"
     },
     "output_type": "display_data"
    }
   ],
   "source": [
    "corrmat = df2.drop(['time', 'J'], axis = 1).corr()\n",
    "plt.figure(figsize=(10,8))\n",
    "sns.heatmap(corrmat)"
   ]
  },
  {
   "cell_type": "markdown",
   "metadata": {},
   "source": [
    "##### 1.3 Preparação da base"
   ]
  },
  {
   "cell_type": "code",
   "execution_count": 12,
   "metadata": {},
   "outputs": [],
   "source": [
    "from sklearn.preprocessing import LabelEncoder\n",
    "from sklearn.preprocessing import StandardScaler"
   ]
  },
  {
   "cell_type": "code",
   "execution_count": 13,
   "metadata": {},
   "outputs": [],
   "source": [
    "encoder = {}\n",
    "encoder['time'] = LabelEncoder()"
   ]
  },
  {
   "cell_type": "code",
   "execution_count": 14,
   "metadata": {},
   "outputs": [
    {
     "name": "stderr",
     "output_type": "stream",
     "text": [
      "/home/lucasnseq/anaconda3/lib/python3.7/site-packages/ipykernel_launcher.py:4: SettingWithCopyWarning: \n",
      "A value is trying to be set on a copy of a slice from a DataFrame.\n",
      "Try using .loc[row_indexer,col_indexer] = value instead\n",
      "\n",
      "See the caveats in the documentation: http://pandas.pydata.org/pandas-docs/stable/user_guide/indexing.html#returning-a-view-versus-a-copy\n",
      "  after removing the cwd from sys.path.\n",
      "/home/lucasnseq/anaconda3/lib/python3.7/site-packages/ipykernel_launcher.py:7: SettingWithCopyWarning: \n",
      "A value is trying to be set on a copy of a slice from a DataFrame.\n",
      "Try using .loc[row_indexer,col_indexer] = value instead\n",
      "\n",
      "See the caveats in the documentation: http://pandas.pydata.org/pandas-docs/stable/user_guide/indexing.html#returning-a-view-versus-a-copy\n",
      "  import sys\n",
      "/home/lucasnseq/anaconda3/lib/python3.7/site-packages/ipykernel_launcher.py:8: SettingWithCopyWarning: \n",
      "A value is trying to be set on a copy of a slice from a DataFrame.\n",
      "Try using .loc[row_indexer,col_indexer] = value instead\n",
      "\n",
      "See the caveats in the documentation: http://pandas.pydata.org/pandas-docs/stable/user_guide/indexing.html#returning-a-view-versus-a-copy\n",
      "  \n",
      "/home/lucasnseq/anaconda3/lib/python3.7/site-packages/ipykernel_launcher.py:9: SettingWithCopyWarning: \n",
      "A value is trying to be set on a copy of a slice from a DataFrame.\n",
      "Try using .loc[row_indexer,col_indexer] = value instead\n",
      "\n",
      "See the caveats in the documentation: http://pandas.pydata.org/pandas-docs/stable/user_guide/indexing.html#returning-a-view-versus-a-copy\n",
      "  if __name__ == '__main__':\n"
     ]
    }
   ],
   "source": [
    "# atributos\n",
    "X = df[['casa', 'visitante']]\n",
    "X.columns = ['time1', 'time2']\n",
    "X['casa'] = df['casa']\n",
    "X.head()\n",
    "\n",
    "X['time1'] = encoder['time'].fit_transform(X['time1'])\n",
    "X['time2'] = encoder['time'].transform(X['time2'])\n",
    "X['casa'] = encoder['time'].transform(X['casa'])\n",
    "X.head()\n",
    "X = X.values\n",
    "\n",
    "scaler_x = StandardScaler()\n",
    "X = scaler_x.fit_transform(X)"
   ]
  },
  {
   "cell_type": "code",
   "execution_count": 15,
   "metadata": {},
   "outputs": [],
   "source": [
    "# target\n",
    "\n",
    "def vencedor(casa, visitante, g_c, g_v):\n",
    "    if g_c > g_v:\n",
    "        return 'casa'\n",
    "    if g_c < g_v:\n",
    "        return 'visitante'\n",
    "    return 'empate'\n",
    "\n",
    "y = []\n",
    "for jogo in range(len(df)):\n",
    "    y.append(vencedor(df['casa'][jogo], df['visitante'][jogo], df['gols_c'][jogo], df['gols_v'][jogo]))\n",
    "y = np.array(y).reshape(-1,1)"
   ]
  },
  {
   "cell_type": "markdown",
   "metadata": {},
   "source": [
    "##### 1.4 Teste x Treinamento"
   ]
  },
  {
   "cell_type": "code",
   "execution_count": 16,
   "metadata": {},
   "outputs": [],
   "source": [
    "from sklearn.model_selection import train_test_split"
   ]
  },
  {
   "cell_type": "code",
   "execution_count": 17,
   "metadata": {},
   "outputs": [],
   "source": [
    "X_train, X_test, y_train, y_test = train_test_split(X, y, test_size = 0.4)"
   ]
  },
  {
   "cell_type": "code",
   "execution_count": 18,
   "metadata": {},
   "outputs": [],
   "source": [
    "from sklearn.metrics import confusion_matrix\n",
    "from sklearn.metrics import f1_score\n",
    "from sklearn.metrics import precision_score\n",
    "from sklearn.metrics import recall_score"
   ]
  },
  {
   "cell_type": "code",
   "execution_count": 19,
   "metadata": {},
   "outputs": [],
   "source": [
    "def doClassifier(name, estimator, clf_dict, X_train, X_test, y_train, y_test, verbose = True):\n",
    "    clf_dict[name] = estimator\n",
    "    clf_dict[name].fit(X_train, y_train)\n",
    "    \n",
    "    if verbose:\n",
    "        print('## RESULTADOS:')\n",
    "        print('predições:\\t', clf_dict[name].predict(X_test)[0:5], '...')\n",
    "        print('real:\\t\\t', y_test.reshape(-1)[0:5], '...')\n",
    "        print('\\n## PONTUAÇÕES:')\n",
    "        print('acurácia:\\t{0:1.3f}'.format(clf_dict[name].score(X_test, y_test)))\n",
    "        print('recall:\\t\\t{0:1.3f}'.format(recall_score(y_test, clf_dict[name].predict(X_test), average='weighted')))\n",
    "        print('percisão:\\t{0:1.3f}'.format(precision_score(y_test, clf_dict[name].predict(X_test), average='weighted')))\n",
    "        print('f1:\\t\\t{0:1.3f}'.format(f1_score(y_test, clf_dict[name].predict(X_test), average='weighted')))\n",
    "        print('\\n## MATRIZ DE CONFUSÃO:')\n",
    "        confusion = confusion_matrix(y_test, clf_dict[name].predict(X_test))\n",
    "        print(confusion)\n",
    "    \n",
    "    return clf_dict"
   ]
  },
  {
   "cell_type": "markdown",
   "metadata": {},
   "source": [
    "##### 1.5 Classificador Dummy"
   ]
  },
  {
   "cell_type": "code",
   "execution_count": 20,
   "metadata": {},
   "outputs": [],
   "source": [
    "from sklearn.dummy import DummyClassifier\n",
    "clf = {}"
   ]
  },
  {
   "cell_type": "markdown",
   "metadata": {},
   "source": [
    "###### 1.5.1 stratified"
   ]
  },
  {
   "cell_type": "code",
   "execution_count": 21,
   "metadata": {},
   "outputs": [
    {
     "name": "stdout",
     "output_type": "stream",
     "text": [
      "## RESULTADOS:\n",
      "predições:\t ['casa' 'casa' 'casa' 'casa' 'casa'] ...\n",
      "real:\t\t ['casa' 'casa' 'empate' 'empate' 'visitante'] ...\n",
      "\n",
      "## PONTUAÇÕES:\n",
      "acurácia:\t0.388\n",
      "recall:\t\t0.342\n",
      "percisão:\t0.431\n",
      "f1:\t\t0.421\n",
      "\n",
      "## MATRIZ DE CONFUSÃO:\n",
      "[[43 22 13]\n",
      " [29  7 12]\n",
      " [15  7  4]]\n"
     ]
    }
   ],
   "source": [
    "clf = doClassifier('dummy_s', DummyClassifier(strategy='stratified'), clf, X_train, X_test, y_train, y_test)"
   ]
  },
  {
   "cell_type": "markdown",
   "metadata": {},
   "source": [
    "###### 1.5.2 most_frequent"
   ]
  },
  {
   "cell_type": "code",
   "execution_count": 22,
   "metadata": {},
   "outputs": [
    {
     "name": "stdout",
     "output_type": "stream",
     "text": [
      "## RESULTADOS:\n",
      "predições:\t ['casa' 'casa' 'casa' 'casa' 'casa'] ...\n",
      "real:\t\t ['casa' 'casa' 'empate' 'empate' 'visitante'] ...\n",
      "\n",
      "## PONTUAÇÕES:\n",
      "acurácia:\t0.513\n",
      "recall:\t\t0.513\n",
      "percisão:\t0.263\n",
      "f1:\t\t0.348\n",
      "\n",
      "## MATRIZ DE CONFUSÃO:\n",
      "[[78  0  0]\n",
      " [48  0  0]\n",
      " [26  0  0]]\n"
     ]
    },
    {
     "name": "stderr",
     "output_type": "stream",
     "text": [
      "/home/lucasnseq/anaconda3/lib/python3.7/site-packages/sklearn/metrics/classification.py:1437: UndefinedMetricWarning: Precision is ill-defined and being set to 0.0 in labels with no predicted samples.\n",
      "  'precision', 'predicted', average, warn_for)\n",
      "/home/lucasnseq/anaconda3/lib/python3.7/site-packages/sklearn/metrics/classification.py:1437: UndefinedMetricWarning: F-score is ill-defined and being set to 0.0 in labels with no predicted samples.\n",
      "  'precision', 'predicted', average, warn_for)\n"
     ]
    }
   ],
   "source": [
    "clf = doClassifier('dummy_m', DummyClassifier(strategy='most_frequent'), clf, X_train, X_test, y_train, y_test)"
   ]
  },
  {
   "cell_type": "markdown",
   "metadata": {},
   "source": [
    "##### 1.6 Classificador k-NN (com grid search)"
   ]
  },
  {
   "cell_type": "code",
   "execution_count": 23,
   "metadata": {},
   "outputs": [],
   "source": [
    "from sklearn.neighbors import KNeighborsClassifier\n",
    "from sklearn.model_selection import GridSearchCV"
   ]
  },
  {
   "cell_type": "code",
   "execution_count": 24,
   "metadata": {
    "scrolled": false
   },
   "outputs": [
    {
     "name": "stdout",
     "output_type": "stream",
     "text": [
      "Fitting 5 folds for each of 40 candidates, totalling 200 fits\n"
     ]
    },
    {
     "name": "stderr",
     "output_type": "stream",
     "text": [
      "[Parallel(n_jobs=-1)]: Using backend LokyBackend with 4 concurrent workers.\n",
      "[Parallel(n_jobs=-1)]: Done 200 out of 200 | elapsed:    1.3s finished\n",
      "/home/lucasnseq/anaconda3/lib/python3.7/site-packages/sklearn/model_selection/_search.py:813: DeprecationWarning: The default of the `iid` parameter will change from True to False in version 0.22 and will be removed in 0.24. This will change numeric results when test-set sizes are unequal.\n",
      "  DeprecationWarning)\n",
      "/home/lucasnseq/anaconda3/lib/python3.7/site-packages/sklearn/model_selection/_search.py:714: DataConversionWarning: A column-vector y was passed when a 1d array was expected. Please change the shape of y to (n_samples, ), for example using ravel().\n",
      "  self.best_estimator_.fit(X, y, **fit_params)\n"
     ]
    }
   ],
   "source": [
    "gridParams = {'n_neighbors': [1, 2, 3, 5, 7, 11, 13, 17, 19, 23],\n",
    "              'weights': ['uniform', 'distance'],\n",
    "              'metric': ['euclidean', 'manhattan']}\n",
    "gs = GridSearchCV(KNeighborsClassifier(), gridParams, verbose = 1, cv = 5, n_jobs=-1)\n",
    "gs_results = gs.fit(X, y)"
   ]
  },
  {
   "cell_type": "code",
   "execution_count": 25,
   "metadata": {},
   "outputs": [
    {
     "name": "stdout",
     "output_type": "stream",
     "text": [
      "## RESULTADOS:\n",
      "predições:\t ['casa' 'casa' 'casa' 'casa' 'casa'] ...\n",
      "real:\t\t ['casa' 'casa' 'empate' 'empate' 'visitante'] ...\n",
      "\n",
      "## PONTUAÇÕES:\n",
      "acurácia:\t0.461\n",
      "recall:\t\t0.461\n",
      "percisão:\t0.376\n",
      "f1:\t\t0.385\n",
      "\n",
      "## MATRIZ DE CONFUSÃO:\n",
      "[[63 14  1]\n",
      " [39  6  3]\n",
      " [21  4  1]]\n"
     ]
    },
    {
     "name": "stderr",
     "output_type": "stream",
     "text": [
      "/home/lucasnseq/anaconda3/lib/python3.7/site-packages/ipykernel_launcher.py:3: DataConversionWarning: A column-vector y was passed when a 1d array was expected. Please change the shape of y to (n_samples, ), for example using ravel().\n",
      "  This is separate from the ipykernel package so we can avoid doing imports until\n"
     ]
    }
   ],
   "source": [
    "clf = doClassifier('knn', gs_results.best_estimator_, clf, X_train, X_test, y_train, y_test)"
   ]
  },
  {
   "cell_type": "markdown",
   "metadata": {},
   "source": [
    "##### 1.7 SVM"
   ]
  },
  {
   "cell_type": "code",
   "execution_count": 26,
   "metadata": {},
   "outputs": [
    {
     "name": "stdout",
     "output_type": "stream",
     "text": [
      "## RESULTADOS:\n",
      "predições:\t ['casa' 'casa' 'casa' 'casa' 'casa'] ...\n",
      "real:\t\t ['casa' 'casa' 'empate' 'empate' 'visitante'] ...\n",
      "\n",
      "## PONTUAÇÕES:\n",
      "acurácia:\t0.513\n",
      "recall:\t\t0.513\n",
      "percisão:\t0.263\n",
      "f1:\t\t0.348\n",
      "\n",
      "## MATRIZ DE CONFUSÃO:\n",
      "[[78  0  0]\n",
      " [48  0  0]\n",
      " [26  0  0]]\n"
     ]
    },
    {
     "name": "stderr",
     "output_type": "stream",
     "text": [
      "/home/lucasnseq/anaconda3/lib/python3.7/site-packages/sklearn/utils/validation.py:724: DataConversionWarning: A column-vector y was passed when a 1d array was expected. Please change the shape of y to (n_samples, ), for example using ravel().\n",
      "  y = column_or_1d(y, warn=True)\n",
      "/home/lucasnseq/anaconda3/lib/python3.7/site-packages/sklearn/svm/base.py:193: FutureWarning: The default value of gamma will change from 'auto' to 'scale' in version 0.22 to account better for unscaled features. Set gamma explicitly to 'auto' or 'scale' to avoid this warning.\n",
      "  \"avoid this warning.\", FutureWarning)\n",
      "/home/lucasnseq/anaconda3/lib/python3.7/site-packages/sklearn/metrics/classification.py:1437: UndefinedMetricWarning: Precision is ill-defined and being set to 0.0 in labels with no predicted samples.\n",
      "  'precision', 'predicted', average, warn_for)\n",
      "/home/lucasnseq/anaconda3/lib/python3.7/site-packages/sklearn/metrics/classification.py:1437: UndefinedMetricWarning: F-score is ill-defined and being set to 0.0 in labels with no predicted samples.\n",
      "  'precision', 'predicted', average, warn_for)\n"
     ]
    }
   ],
   "source": [
    "from sklearn.svm import SVC\n",
    "\n",
    "clf = doClassifier('svm', SVC(kernel='rbf', C=1), clf, X_train, X_test, y_train, y_test)"
   ]
  },
  {
   "cell_type": "code",
   "execution_count": 27,
   "metadata": {},
   "outputs": [
    {
     "name": "stdout",
     "output_type": "stream",
     "text": [
      "## RESULTADOS:\n",
      "predições:\t ['casa' 'casa' 'casa' 'casa' 'casa'] ...\n",
      "real:\t\t ['casa' 'casa' 'empate' 'empate' 'visitante'] ...\n",
      "\n",
      "## PONTUAÇÕES:\n",
      "acurácia:\t0.513\n",
      "recall:\t\t0.513\n",
      "percisão:\t0.263\n",
      "f1:\t\t0.348\n",
      "\n",
      "## MATRIZ DE CONFUSÃO:\n",
      "[[78  0  0]\n",
      " [48  0  0]\n",
      " [26  0  0]]\n"
     ]
    },
    {
     "name": "stderr",
     "output_type": "stream",
     "text": [
      "/home/lucasnseq/anaconda3/lib/python3.7/site-packages/sklearn/linear_model/logistic.py:432: FutureWarning: Default solver will be changed to 'lbfgs' in 0.22. Specify a solver to silence this warning.\n",
      "  FutureWarning)\n",
      "/home/lucasnseq/anaconda3/lib/python3.7/site-packages/sklearn/utils/validation.py:724: DataConversionWarning: A column-vector y was passed when a 1d array was expected. Please change the shape of y to (n_samples, ), for example using ravel().\n",
      "  y = column_or_1d(y, warn=True)\n",
      "/home/lucasnseq/anaconda3/lib/python3.7/site-packages/sklearn/linear_model/logistic.py:469: FutureWarning: Default multi_class will be changed to 'auto' in 0.22. Specify the multi_class option to silence this warning.\n",
      "  \"this warning.\", FutureWarning)\n",
      "/home/lucasnseq/anaconda3/lib/python3.7/site-packages/sklearn/metrics/classification.py:1437: UndefinedMetricWarning: Precision is ill-defined and being set to 0.0 in labels with no predicted samples.\n",
      "  'precision', 'predicted', average, warn_for)\n",
      "/home/lucasnseq/anaconda3/lib/python3.7/site-packages/sklearn/metrics/classification.py:1437: UndefinedMetricWarning: F-score is ill-defined and being set to 0.0 in labels with no predicted samples.\n",
      "  'precision', 'predicted', average, warn_for)\n"
     ]
    }
   ],
   "source": [
    "from sklearn.linear_model import LogisticRegression\n",
    "\n",
    "clf = doClassifier('log', LogisticRegression(), clf, X_train, X_test, y_train, y_test)"
   ]
  },
  {
   "cell_type": "markdown",
   "metadata": {},
   "source": [
    "##### 1.8 Resultados compilados"
   ]
  },
  {
   "cell_type": "code",
   "execution_count": 28,
   "metadata": {},
   "outputs": [
    {
     "name": "stderr",
     "output_type": "stream",
     "text": [
      "/home/lucasnseq/anaconda3/lib/python3.7/site-packages/sklearn/metrics/classification.py:1437: UndefinedMetricWarning: Precision is ill-defined and being set to 0.0 in labels with no predicted samples.\n",
      "  'precision', 'predicted', average, warn_for)\n",
      "/home/lucasnseq/anaconda3/lib/python3.7/site-packages/sklearn/metrics/classification.py:1437: UndefinedMetricWarning: F-score is ill-defined and being set to 0.0 in labels with no predicted samples.\n",
      "  'precision', 'predicted', average, warn_for)\n",
      "/home/lucasnseq/anaconda3/lib/python3.7/site-packages/sklearn/metrics/classification.py:1437: UndefinedMetricWarning: Precision is ill-defined and being set to 0.0 in labels with no predicted samples.\n",
      "  'precision', 'predicted', average, warn_for)\n",
      "/home/lucasnseq/anaconda3/lib/python3.7/site-packages/sklearn/metrics/classification.py:1437: UndefinedMetricWarning: F-score is ill-defined and being set to 0.0 in labels with no predicted samples.\n",
      "  'precision', 'predicted', average, warn_for)\n"
     ]
    },
    {
     "name": "stdout",
     "output_type": "stream",
     "text": [
      "\t\t\tAcurácia\tPrecisão\tRecall\tF1-Score\n",
      "\n",
      "Dummy stratified:\t0.48\t\t0.42\t\t0.30\t0.38\n",
      "Dummy most freq.:\t0.51\t\t0.26\t\t0.51\t0.35\n",
      "SVM:\t\t\t0.51\t\t0.26\t\t0.51\t0.35\n",
      "KNN:\t\t\t0.46\t\t0.38\t\t0.46\t0.39\n",
      "Logistic regression:\t0.51\t\t0.26\t\t0.51\t0.35\n"
     ]
    },
    {
     "name": "stderr",
     "output_type": "stream",
     "text": [
      "/home/lucasnseq/anaconda3/lib/python3.7/site-packages/sklearn/metrics/classification.py:1437: UndefinedMetricWarning: Precision is ill-defined and being set to 0.0 in labels with no predicted samples.\n",
      "  'precision', 'predicted', average, warn_for)\n",
      "/home/lucasnseq/anaconda3/lib/python3.7/site-packages/sklearn/metrics/classification.py:1437: UndefinedMetricWarning: F-score is ill-defined and being set to 0.0 in labels with no predicted samples.\n",
      "  'precision', 'predicted', average, warn_for)\n"
     ]
    }
   ],
   "source": [
    "print('\\t\\t\\tAcurácia\\tPrecisão\\tRecall\\tF1-Score\\n')\n",
    "print('Dummy stratified:\\t{0:1.2f}\\t\\t{1:2.2f}\\t\\t{2:3.2f}\\t{3:4.2f}'.format(clf['dummy_s'].score(X_test, y_test),\n",
    "                                                               precision_score(y_test, clf['dummy_s'].predict(X_test), average='weighted'),\n",
    "                                                               recall_score(y_test, clf['dummy_s'].predict(X_test), average='weighted'),\n",
    "                                                               f1_score(y_test, clf['dummy_s'].predict(X_test), average='weighted')))\n",
    "print('Dummy most freq.:\\t{0:1.2f}\\t\\t{1:2.2f}\\t\\t{2:3.2f}\\t{3:4.2f}'.format(clf['dummy_m'].score(X_test, y_test),\n",
    "                                                               precision_score(y_test, clf['dummy_m'].predict(X_test), average='weighted'),\n",
    "                                                               recall_score(y_test, clf['dummy_m'].predict(X_test), average='weighted'),\n",
    "                                                               f1_score(y_test, clf['dummy_m'].predict(X_test), average='weighted')))\n",
    "print('SVM:\\t\\t\\t{0:1.2f}\\t\\t{1:2.2f}\\t\\t{2:3.2f}\\t{3:4.2f}'.format(clf['svm'].score(X_test, y_test),\n",
    "                                                               precision_score(y_test, clf['svm'].predict(X_test), average='weighted'),\n",
    "                                                               recall_score(y_test, clf['svm'].predict(X_test), average='weighted'),\n",
    "                                                               f1_score(y_test, clf['svm'].predict(X_test), average='weighted')))\n",
    "print('KNN:\\t\\t\\t{0:1.2f}\\t\\t{1:2.2f}\\t\\t{2:3.2f}\\t{3:4.2f}'.format(clf['knn'].score(X_test, y_test),\n",
    "                                                               precision_score(y_test, clf['knn'].predict(X_test), average='weighted'),\n",
    "                                                               recall_score(y_test, clf['knn'].predict(X_test), average='weighted'),\n",
    "                                                               f1_score(y_test, clf['knn'].predict(X_test), average='weighted')))\n",
    "print('Logistic regression:\\t{0:1.2f}\\t\\t{1:2.2f}\\t\\t{2:3.2f}\\t{3:4.2f}'.format(clf['log'].score(X_test, y_test),\n",
    "                                                               precision_score(y_test, clf['log'].predict(X_test), average='weighted'),\n",
    "                                                               recall_score(y_test, clf['log'].predict(X_test), average='weighted'),\n",
    "                                                               f1_score(y_test, clf['log'].predict(X_test), average='weighted')))"
   ]
  },
  {
   "cell_type": "markdown",
   "metadata": {},
   "source": [
    "#### 2. Time visitante, vence"
   ]
  },
  {
   "cell_type": "markdown",
   "metadata": {},
   "source": [
    "##### 2.1 Seleção dos dados"
   ]
  },
  {
   "cell_type": "code",
   "execution_count": 29,
   "metadata": {},
   "outputs": [
    {
     "name": "stderr",
     "output_type": "stream",
     "text": [
      "/home/lucasnseq/anaconda3/lib/python3.7/site-packages/ipykernel_launcher.py:4: SettingWithCopyWarning: \n",
      "A value is trying to be set on a copy of a slice from a DataFrame.\n",
      "Try using .loc[row_indexer,col_indexer] = value instead\n",
      "\n",
      "See the caveats in the documentation: http://pandas.pydata.org/pandas-docs/stable/user_guide/indexing.html#returning-a-view-versus-a-copy\n",
      "  after removing the cwd from sys.path.\n",
      "/home/lucasnseq/anaconda3/lib/python3.7/site-packages/ipykernel_launcher.py:7: SettingWithCopyWarning: \n",
      "A value is trying to be set on a copy of a slice from a DataFrame.\n",
      "Try using .loc[row_indexer,col_indexer] = value instead\n",
      "\n",
      "See the caveats in the documentation: http://pandas.pydata.org/pandas-docs/stable/user_guide/indexing.html#returning-a-view-versus-a-copy\n",
      "  import sys\n",
      "/home/lucasnseq/anaconda3/lib/python3.7/site-packages/ipykernel_launcher.py:8: SettingWithCopyWarning: \n",
      "A value is trying to be set on a copy of a slice from a DataFrame.\n",
      "Try using .loc[row_indexer,col_indexer] = value instead\n",
      "\n",
      "See the caveats in the documentation: http://pandas.pydata.org/pandas-docs/stable/user_guide/indexing.html#returning-a-view-versus-a-copy\n",
      "  \n",
      "/home/lucasnseq/anaconda3/lib/python3.7/site-packages/ipykernel_launcher.py:9: SettingWithCopyWarning: \n",
      "A value is trying to be set on a copy of a slice from a DataFrame.\n",
      "Try using .loc[row_indexer,col_indexer] = value instead\n",
      "\n",
      "See the caveats in the documentation: http://pandas.pydata.org/pandas-docs/stable/user_guide/indexing.html#returning-a-view-versus-a-copy\n",
      "  if __name__ == '__main__':\n"
     ]
    }
   ],
   "source": [
    "# atributos\n",
    "X = df[['casa', 'visitante']]\n",
    "X.columns = ['time1', 'time2']\n",
    "X['casa'] = df['casa']\n",
    "X.head()\n",
    "\n",
    "X['time1'] = encoder['time'].fit_transform(X['time1'])\n",
    "X['time2'] = encoder['time'].transform(X['time2'])\n",
    "X['casa'] = encoder['time'].transform(X['casa'])\n",
    "X.head()\n",
    "X = X.values\n",
    "\n",
    "scaler_x = StandardScaler()\n",
    "X = scaler_x.fit_transform(X)"
   ]
  },
  {
   "cell_type": "code",
   "execution_count": 30,
   "metadata": {},
   "outputs": [],
   "source": [
    "y = []\n",
    "for jogo in range(len(df)):\n",
    "    if vencedor(df['casa'][jogo], df['visitante'][jogo], df['gols_c'][jogo], df['gols_v'][jogo]) == 'visitante':\n",
    "        y.append(1)\n",
    "    else:\n",
    "        y.append(0)\n",
    "y = np.array(y).reshape(-1,1)"
   ]
  },
  {
   "cell_type": "code",
   "execution_count": 31,
   "metadata": {},
   "outputs": [],
   "source": [
    "X_train, X_test, y_train, y_test = train_test_split(X, y, test_size = 0.4)"
   ]
  },
  {
   "cell_type": "markdown",
   "metadata": {},
   "source": [
    "##### 2.2 Classificadores"
   ]
  },
  {
   "cell_type": "code",
   "execution_count": 32,
   "metadata": {},
   "outputs": [],
   "source": [
    "clf2 = {}"
   ]
  },
  {
   "cell_type": "code",
   "execution_count": 33,
   "metadata": {},
   "outputs": [
    {
     "name": "stdout",
     "output_type": "stream",
     "text": [
      "## RESULTADOS:\n",
      "predições:\t [0 1 1 0 0] ...\n",
      "real:\t\t [0 0 0 1 0] ...\n",
      "\n",
      "## PONTUAÇÕES:\n",
      "acurácia:\t0.651\n",
      "recall:\t\t0.737\n",
      "percisão:\t0.697\n",
      "f1:\t\t0.694\n",
      "\n",
      "## MATRIZ DE CONFUSÃO:\n",
      "[[107  16]\n",
      " [ 23   6]]\n"
     ]
    }
   ],
   "source": [
    "# dummy stratified\n",
    "clf2 = doClassifier('dummy_s', DummyClassifier(strategy='stratified'), clf2, X_train, X_test, y_train, y_test)"
   ]
  },
  {
   "cell_type": "code",
   "execution_count": 34,
   "metadata": {},
   "outputs": [
    {
     "name": "stdout",
     "output_type": "stream",
     "text": [
      "## RESULTADOS:\n",
      "predições:\t [0 0 0 0 0] ...\n",
      "real:\t\t [0 0 0 1 0] ...\n",
      "\n",
      "## PONTUAÇÕES:\n",
      "acurácia:\t0.809\n",
      "recall:\t\t0.809\n",
      "percisão:\t0.655\n",
      "f1:\t\t0.724\n",
      "\n",
      "## MATRIZ DE CONFUSÃO:\n",
      "[[123   0]\n",
      " [ 29   0]]\n"
     ]
    },
    {
     "name": "stderr",
     "output_type": "stream",
     "text": [
      "/home/lucasnseq/anaconda3/lib/python3.7/site-packages/sklearn/metrics/classification.py:1437: UndefinedMetricWarning: Precision is ill-defined and being set to 0.0 in labels with no predicted samples.\n",
      "  'precision', 'predicted', average, warn_for)\n",
      "/home/lucasnseq/anaconda3/lib/python3.7/site-packages/sklearn/metrics/classification.py:1437: UndefinedMetricWarning: F-score is ill-defined and being set to 0.0 in labels with no predicted samples.\n",
      "  'precision', 'predicted', average, warn_for)\n"
     ]
    }
   ],
   "source": [
    "# dummy most frequent\n",
    "clf2 = doClassifier('dummy_m', DummyClassifier(strategy='most_frequent'), clf2, X_train, X_test, y_train, y_test)"
   ]
  },
  {
   "cell_type": "code",
   "execution_count": 35,
   "metadata": {},
   "outputs": [
    {
     "name": "stdout",
     "output_type": "stream",
     "text": [
      "Fitting 5 folds for each of 40 candidates, totalling 200 fits\n"
     ]
    },
    {
     "name": "stderr",
     "output_type": "stream",
     "text": [
      "[Parallel(n_jobs=-1)]: Using backend LokyBackend with 4 concurrent workers.\n"
     ]
    },
    {
     "name": "stdout",
     "output_type": "stream",
     "text": [
      "## RESULTADOS:\n",
      "predições:\t [0 0 0 0 0] ...\n",
      "real:\t\t [0 0 0 1 0] ...\n",
      "\n",
      "## PONTUAÇÕES:\n",
      "acurácia:\t0.809\n",
      "recall:\t\t0.809\n",
      "percisão:\t0.655\n",
      "f1:\t\t0.724\n",
      "\n",
      "## MATRIZ DE CONFUSÃO:\n",
      "[[123   0]\n",
      " [ 29   0]]\n"
     ]
    },
    {
     "name": "stderr",
     "output_type": "stream",
     "text": [
      "[Parallel(n_jobs=-1)]: Done 200 out of 200 | elapsed:    0.3s finished\n",
      "/home/lucasnseq/anaconda3/lib/python3.7/site-packages/sklearn/model_selection/_search.py:813: DeprecationWarning: The default of the `iid` parameter will change from True to False in version 0.22 and will be removed in 0.24. This will change numeric results when test-set sizes are unequal.\n",
      "  DeprecationWarning)\n",
      "/home/lucasnseq/anaconda3/lib/python3.7/site-packages/sklearn/model_selection/_search.py:714: DataConversionWarning: A column-vector y was passed when a 1d array was expected. Please change the shape of y to (n_samples, ), for example using ravel().\n",
      "  self.best_estimator_.fit(X, y, **fit_params)\n",
      "/home/lucasnseq/anaconda3/lib/python3.7/site-packages/ipykernel_launcher.py:3: DataConversionWarning: A column-vector y was passed when a 1d array was expected. Please change the shape of y to (n_samples, ), for example using ravel().\n",
      "  This is separate from the ipykernel package so we can avoid doing imports until\n",
      "/home/lucasnseq/anaconda3/lib/python3.7/site-packages/sklearn/metrics/classification.py:1437: UndefinedMetricWarning: Precision is ill-defined and being set to 0.0 in labels with no predicted samples.\n",
      "  'precision', 'predicted', average, warn_for)\n",
      "/home/lucasnseq/anaconda3/lib/python3.7/site-packages/sklearn/metrics/classification.py:1437: UndefinedMetricWarning: F-score is ill-defined and being set to 0.0 in labels with no predicted samples.\n",
      "  'precision', 'predicted', average, warn_for)\n"
     ]
    }
   ],
   "source": [
    "# knn\n",
    "\n",
    "gridParams = {'n_neighbors': [1, 2, 3, 5, 7, 11, 13, 17, 19, 23],\n",
    "              'weights': ['uniform', 'distance'],\n",
    "              'metric': ['euclidean', 'manhattan']}\n",
    "gs = GridSearchCV(KNeighborsClassifier(), gridParams, verbose = 1, cv = 5, n_jobs=-1)\n",
    "gs_results = gs.fit(X, y)\n",
    "clf2 = doClassifier('knn', gs_results.best_estimator_, clf2, X_train, X_test, y_train, y_test)"
   ]
  },
  {
   "cell_type": "code",
   "execution_count": 36,
   "metadata": {},
   "outputs": [
    {
     "name": "stdout",
     "output_type": "stream",
     "text": [
      "## RESULTADOS:\n",
      "predições:\t [0 0 0 0 0] ...\n",
      "real:\t\t [0 0 0 1 0] ...\n",
      "\n",
      "## PONTUAÇÕES:\n",
      "acurácia:\t0.809\n",
      "recall:\t\t0.809\n",
      "percisão:\t0.655\n",
      "f1:\t\t0.724\n",
      "\n",
      "## MATRIZ DE CONFUSÃO:\n",
      "[[123   0]\n",
      " [ 29   0]]\n"
     ]
    },
    {
     "name": "stderr",
     "output_type": "stream",
     "text": [
      "/home/lucasnseq/anaconda3/lib/python3.7/site-packages/sklearn/utils/validation.py:724: DataConversionWarning: A column-vector y was passed when a 1d array was expected. Please change the shape of y to (n_samples, ), for example using ravel().\n",
      "  y = column_or_1d(y, warn=True)\n",
      "/home/lucasnseq/anaconda3/lib/python3.7/site-packages/sklearn/svm/base.py:193: FutureWarning: The default value of gamma will change from 'auto' to 'scale' in version 0.22 to account better for unscaled features. Set gamma explicitly to 'auto' or 'scale' to avoid this warning.\n",
      "  \"avoid this warning.\", FutureWarning)\n",
      "/home/lucasnseq/anaconda3/lib/python3.7/site-packages/sklearn/metrics/classification.py:1437: UndefinedMetricWarning: Precision is ill-defined and being set to 0.0 in labels with no predicted samples.\n",
      "  'precision', 'predicted', average, warn_for)\n",
      "/home/lucasnseq/anaconda3/lib/python3.7/site-packages/sklearn/metrics/classification.py:1437: UndefinedMetricWarning: F-score is ill-defined and being set to 0.0 in labels with no predicted samples.\n",
      "  'precision', 'predicted', average, warn_for)\n"
     ]
    }
   ],
   "source": [
    "# svm\n",
    "clf2 = doClassifier('svm', SVC(kernel='rbf', C=1), clf2, X_train, X_test, y_train, y_test)"
   ]
  },
  {
   "cell_type": "code",
   "execution_count": 37,
   "metadata": {},
   "outputs": [
    {
     "name": "stdout",
     "output_type": "stream",
     "text": [
      "## RESULTADOS:\n",
      "predições:\t [0 0 0 0 0] ...\n",
      "real:\t\t [0 0 0 1 0] ...\n",
      "\n",
      "## PONTUAÇÕES:\n",
      "acurácia:\t0.809\n",
      "recall:\t\t0.809\n",
      "percisão:\t0.655\n",
      "f1:\t\t0.724\n",
      "\n",
      "## MATRIZ DE CONFUSÃO:\n",
      "[[123   0]\n",
      " [ 29   0]]\n"
     ]
    },
    {
     "name": "stderr",
     "output_type": "stream",
     "text": [
      "/home/lucasnseq/anaconda3/lib/python3.7/site-packages/sklearn/linear_model/logistic.py:432: FutureWarning: Default solver will be changed to 'lbfgs' in 0.22. Specify a solver to silence this warning.\n",
      "  FutureWarning)\n",
      "/home/lucasnseq/anaconda3/lib/python3.7/site-packages/sklearn/utils/validation.py:724: DataConversionWarning: A column-vector y was passed when a 1d array was expected. Please change the shape of y to (n_samples, ), for example using ravel().\n",
      "  y = column_or_1d(y, warn=True)\n",
      "/home/lucasnseq/anaconda3/lib/python3.7/site-packages/sklearn/metrics/classification.py:1437: UndefinedMetricWarning: Precision is ill-defined and being set to 0.0 in labels with no predicted samples.\n",
      "  'precision', 'predicted', average, warn_for)\n",
      "/home/lucasnseq/anaconda3/lib/python3.7/site-packages/sklearn/metrics/classification.py:1437: UndefinedMetricWarning: F-score is ill-defined and being set to 0.0 in labels with no predicted samples.\n",
      "  'precision', 'predicted', average, warn_for)\n"
     ]
    }
   ],
   "source": [
    "# logistic\n",
    "clf2 = doClassifier('log', LogisticRegression(), clf2, X_train, X_test, y_train, y_test)"
   ]
  },
  {
   "cell_type": "markdown",
   "metadata": {},
   "source": [
    "#### 2.3 Resultados"
   ]
  },
  {
   "cell_type": "code",
   "execution_count": 38,
   "metadata": {},
   "outputs": [
    {
     "name": "stderr",
     "output_type": "stream",
     "text": [
      "/home/lucasnseq/anaconda3/lib/python3.7/site-packages/sklearn/metrics/classification.py:1437: UndefinedMetricWarning: Precision is ill-defined and being set to 0.0 in labels with no predicted samples.\n",
      "  'precision', 'predicted', average, warn_for)\n",
      "/home/lucasnseq/anaconda3/lib/python3.7/site-packages/sklearn/metrics/classification.py:1437: UndefinedMetricWarning: F-score is ill-defined and being set to 0.0 in labels with no predicted samples.\n",
      "  'precision', 'predicted', average, warn_for)\n",
      "/home/lucasnseq/anaconda3/lib/python3.7/site-packages/sklearn/metrics/classification.py:1437: UndefinedMetricWarning: Precision is ill-defined and being set to 0.0 in labels with no predicted samples.\n",
      "  'precision', 'predicted', average, warn_for)\n",
      "/home/lucasnseq/anaconda3/lib/python3.7/site-packages/sklearn/metrics/classification.py:1437: UndefinedMetricWarning: F-score is ill-defined and being set to 0.0 in labels with no predicted samples.\n",
      "  'precision', 'predicted', average, warn_for)\n",
      "/home/lucasnseq/anaconda3/lib/python3.7/site-packages/sklearn/metrics/classification.py:1437: UndefinedMetricWarning: Precision is ill-defined and being set to 0.0 in labels with no predicted samples.\n",
      "  'precision', 'predicted', average, warn_for)\n",
      "/home/lucasnseq/anaconda3/lib/python3.7/site-packages/sklearn/metrics/classification.py:1437: UndefinedMetricWarning: F-score is ill-defined and being set to 0.0 in labels with no predicted samples.\n",
      "  'precision', 'predicted', average, warn_for)\n",
      "/home/lucasnseq/anaconda3/lib/python3.7/site-packages/sklearn/metrics/classification.py:1437: UndefinedMetricWarning: Precision is ill-defined and being set to 0.0 in labels with no predicted samples.\n",
      "  'precision', 'predicted', average, warn_for)\n"
     ]
    },
    {
     "name": "stdout",
     "output_type": "stream",
     "text": [
      "\t\t\tAcurácia\tPrecisão\tRecall\tF1-Score\n",
      "\n",
      "Dummy stratified:\t0.70\t\t0.72\t\t0.71\t0.71\n",
      "Dummy most freq.:\t0.81\t\t0.65\t\t0.81\t0.72\n",
      "SVM:\t\t\t0.81\t\t0.65\t\t0.81\t0.72\n",
      "KNN:\t\t\t0.81\t\t0.65\t\t0.81\t0.72\n",
      "Logistic regression:\t0.81\t\t0.65\t\t0.81\t0.72\n"
     ]
    },
    {
     "name": "stderr",
     "output_type": "stream",
     "text": [
      "/home/lucasnseq/anaconda3/lib/python3.7/site-packages/sklearn/metrics/classification.py:1437: UndefinedMetricWarning: F-score is ill-defined and being set to 0.0 in labels with no predicted samples.\n",
      "  'precision', 'predicted', average, warn_for)\n"
     ]
    }
   ],
   "source": [
    "print('\\t\\t\\tAcurácia\\tPrecisão\\tRecall\\tF1-Score\\n')\n",
    "print('Dummy stratified:\\t{0:1.2f}\\t\\t{1:2.2f}\\t\\t{2:3.2f}\\t{3:4.2f}'.format(clf2['dummy_s'].score(X_test, y_test),\n",
    "                                                               precision_score(y_test, clf2['dummy_s'].predict(X_test), average='weighted'),\n",
    "                                                               recall_score(y_test, clf2['dummy_s'].predict(X_test), average='weighted'),\n",
    "                                                               f1_score(y_test, clf2['dummy_s'].predict(X_test), average='weighted')))\n",
    "print('Dummy most freq.:\\t{0:1.2f}\\t\\t{1:2.2f}\\t\\t{2:3.2f}\\t{3:4.2f}'.format(clf2['dummy_m'].score(X_test, y_test),\n",
    "                                                               precision_score(y_test, clf2['dummy_m'].predict(X_test), average='weighted'),\n",
    "                                                               recall_score(y_test, clf2['dummy_m'].predict(X_test), average='weighted'),\n",
    "                                                               f1_score(y_test, clf2['dummy_m'].predict(X_test), average='weighted')))\n",
    "print('SVM:\\t\\t\\t{0:1.2f}\\t\\t{1:2.2f}\\t\\t{2:3.2f}\\t{3:4.2f}'.format(clf2['svm'].score(X_test, y_test),\n",
    "                                                               precision_score(y_test, clf2['svm'].predict(X_test), average='weighted'),\n",
    "                                                               recall_score(y_test, clf2['svm'].predict(X_test), average='weighted'),\n",
    "                                                               f1_score(y_test, clf2['svm'].predict(X_test), average='weighted')))\n",
    "print('KNN:\\t\\t\\t{0:1.2f}\\t\\t{1:2.2f}\\t\\t{2:3.2f}\\t{3:4.2f}'.format(clf2['knn'].score(X_test, y_test),\n",
    "                                                               precision_score(y_test, clf2['knn'].predict(X_test), average='weighted'),\n",
    "                                                               recall_score(y_test, clf2['knn'].predict(X_test), average='weighted'),\n",
    "                                                               f1_score(y_test, clf2['knn'].predict(X_test), average='weighted')))\n",
    "print('Logistic regression:\\t{0:1.2f}\\t\\t{1:2.2f}\\t\\t{2:3.2f}\\t{3:4.2f}'.format(clf2['log'].score(X_test, y_test),\n",
    "                                                               precision_score(y_test, clf2['log'].predict(X_test), average='weighted'),\n",
    "                                                               recall_score(y_test, clf2['log'].predict(X_test), average='weighted'),\n",
    "                                                               f1_score(y_test, clf2['log'].predict(X_test), average='weighted')))"
   ]
  },
  {
   "cell_type": "markdown",
   "metadata": {},
   "source": [
    "#### 3. Tendência de dados"
   ]
  },
  {
   "cell_type": "markdown",
   "metadata": {},
   "source": [
    "##### 3.1 Adição das rodadas à tabela de jogos"
   ]
  },
  {
   "cell_type": "code",
   "execution_count": 39,
   "metadata": {},
   "outputs": [],
   "source": [
    "rodada = []\n",
    "for i in range(1, 39):\n",
    "    rodada.append(i*np.ones(10, dtype = int))\n",
    "rodada = np.asarray(rodada).reshape(-1)"
   ]
  },
  {
   "cell_type": "code",
   "execution_count": 40,
   "metadata": {},
   "outputs": [],
   "source": [
    "df['rodada'] = rodada"
   ]
  },
  {
   "cell_type": "code",
   "execution_count": 41,
   "metadata": {},
   "outputs": [
    {
     "data": {
      "text/plain": [
       "Index(['casa', 'gols_c', 'gols_v', 'visitante', 'pp', 'iv', 'iv%', 'renda_L',\n",
       "       'renda_B', 'rodada'],\n",
       "      dtype='object')"
      ]
     },
     "execution_count": 41,
     "metadata": {},
     "output_type": "execute_result"
    }
   ],
   "source": [
    "df.columns"
   ]
  },
  {
   "cell_type": "markdown",
   "metadata": {},
   "source": [
    "##### 3.2 Seleção dos dados"
   ]
  },
  {
   "cell_type": "code",
   "execution_count": 42,
   "metadata": {},
   "outputs": [
    {
     "name": "stderr",
     "output_type": "stream",
     "text": [
      "/home/lucasnseq/anaconda3/lib/python3.7/site-packages/ipykernel_launcher.py:4: SettingWithCopyWarning: \n",
      "A value is trying to be set on a copy of a slice from a DataFrame.\n",
      "Try using .loc[row_indexer,col_indexer] = value instead\n",
      "\n",
      "See the caveats in the documentation: http://pandas.pydata.org/pandas-docs/stable/user_guide/indexing.html#returning-a-view-versus-a-copy\n",
      "  after removing the cwd from sys.path.\n",
      "/home/lucasnseq/anaconda3/lib/python3.7/site-packages/ipykernel_launcher.py:7: SettingWithCopyWarning: \n",
      "A value is trying to be set on a copy of a slice from a DataFrame.\n",
      "Try using .loc[row_indexer,col_indexer] = value instead\n",
      "\n",
      "See the caveats in the documentation: http://pandas.pydata.org/pandas-docs/stable/user_guide/indexing.html#returning-a-view-versus-a-copy\n",
      "  import sys\n",
      "/home/lucasnseq/anaconda3/lib/python3.7/site-packages/ipykernel_launcher.py:8: SettingWithCopyWarning: \n",
      "A value is trying to be set on a copy of a slice from a DataFrame.\n",
      "Try using .loc[row_indexer,col_indexer] = value instead\n",
      "\n",
      "See the caveats in the documentation: http://pandas.pydata.org/pandas-docs/stable/user_guide/indexing.html#returning-a-view-versus-a-copy\n",
      "  \n",
      "/home/lucasnseq/anaconda3/lib/python3.7/site-packages/ipykernel_launcher.py:9: SettingWithCopyWarning: \n",
      "A value is trying to be set on a copy of a slice from a DataFrame.\n",
      "Try using .loc[row_indexer,col_indexer] = value instead\n",
      "\n",
      "See the caveats in the documentation: http://pandas.pydata.org/pandas-docs/stable/user_guide/indexing.html#returning-a-view-versus-a-copy\n",
      "  if __name__ == '__main__':\n"
     ]
    }
   ],
   "source": [
    "# atributos\n",
    "X = df[['casa', 'visitante', 'rodada']]\n",
    "X.columns = ['time1', 'time2', 'rodada']\n",
    "X['casa'] = df['casa']\n",
    "X.head()\n",
    "\n",
    "X['time1'] = encoder['time'].fit_transform(X['time1'])\n",
    "X['time2'] = encoder['time'].transform(X['time2'])\n",
    "X['casa'] = encoder['time'].transform(X['casa'])\n",
    "X.head()\n",
    "X = X.values\n",
    "\n",
    "scaler_x = StandardScaler()\n",
    "X = scaler_x.fit_transform(X)"
   ]
  },
  {
   "cell_type": "code",
   "execution_count": 43,
   "metadata": {},
   "outputs": [],
   "source": [
    "y = []\n",
    "for jogo in range(len(df)):\n",
    "    if vencedor(df['casa'][jogo], df['visitante'][jogo], df['gols_c'][jogo], df['gols_v'][jogo]) == 'visitante':\n",
    "        y.append(1)\n",
    "    else:\n",
    "        y.append(0)\n",
    "y = np.array(y).reshape(-1,1)"
   ]
  },
  {
   "cell_type": "code",
   "execution_count": 44,
   "metadata": {},
   "outputs": [],
   "source": [
    "X_train, X_test, y_train, y_test = train_test_split(X, y, test_size = 0.4)"
   ]
  },
  {
   "cell_type": "markdown",
   "metadata": {},
   "source": [
    "##### 3.3 Classificadores"
   ]
  },
  {
   "cell_type": "code",
   "execution_count": 45,
   "metadata": {},
   "outputs": [],
   "source": [
    "clf3 = {}"
   ]
  },
  {
   "cell_type": "code",
   "execution_count": 46,
   "metadata": {},
   "outputs": [
    {
     "name": "stderr",
     "output_type": "stream",
     "text": [
      "/home/lucasnseq/anaconda3/lib/python3.7/site-packages/sklearn/utils/validation.py:724: DataConversionWarning: A column-vector y was passed when a 1d array was expected. Please change the shape of y to (n_samples, ), for example using ravel().\n",
      "  y = column_or_1d(y, warn=True)\n",
      "/home/lucasnseq/anaconda3/lib/python3.7/site-packages/sklearn/svm/base.py:193: FutureWarning: The default value of gamma will change from 'auto' to 'scale' in version 0.22 to account better for unscaled features. Set gamma explicitly to 'auto' or 'scale' to avoid this warning.\n",
      "  \"avoid this warning.\", FutureWarning)\n",
      "/home/lucasnseq/anaconda3/lib/python3.7/site-packages/sklearn/linear_model/logistic.py:432: FutureWarning: Default solver will be changed to 'lbfgs' in 0.22. Specify a solver to silence this warning.\n",
      "  FutureWarning)\n",
      "/home/lucasnseq/anaconda3/lib/python3.7/site-packages/sklearn/utils/validation.py:724: DataConversionWarning: A column-vector y was passed when a 1d array was expected. Please change the shape of y to (n_samples, ), for example using ravel().\n",
      "  y = column_or_1d(y, warn=True)\n",
      "[Parallel(n_jobs=-1)]: Using backend LokyBackend with 4 concurrent workers.\n"
     ]
    },
    {
     "name": "stdout",
     "output_type": "stream",
     "text": [
      "Fitting 5 folds for each of 40 candidates, totalling 200 fits\n"
     ]
    },
    {
     "name": "stderr",
     "output_type": "stream",
     "text": [
      "[Parallel(n_jobs=-1)]: Done 200 out of 200 | elapsed:    0.3s finished\n",
      "/home/lucasnseq/anaconda3/lib/python3.7/site-packages/sklearn/model_selection/_search.py:813: DeprecationWarning: The default of the `iid` parameter will change from True to False in version 0.22 and will be removed in 0.24. This will change numeric results when test-set sizes are unequal.\n",
      "  DeprecationWarning)\n",
      "/home/lucasnseq/anaconda3/lib/python3.7/site-packages/sklearn/model_selection/_search.py:714: DataConversionWarning: A column-vector y was passed when a 1d array was expected. Please change the shape of y to (n_samples, ), for example using ravel().\n",
      "  self.best_estimator_.fit(X, y, **fit_params)\n",
      "/home/lucasnseq/anaconda3/lib/python3.7/site-packages/ipykernel_launcher.py:3: DataConversionWarning: A column-vector y was passed when a 1d array was expected. Please change the shape of y to (n_samples, ), for example using ravel().\n",
      "  This is separate from the ipykernel package so we can avoid doing imports until\n"
     ]
    }
   ],
   "source": [
    "# dummy stratified\n",
    "clf3 = doClassifier('dummy_s', DummyClassifier(strategy='stratified'), clf3, X_train, X_test, y_train, y_test, verbose = False)\n",
    "\n",
    "# dummy most frequent\n",
    "clf3 = doClassifier('dummy_m', DummyClassifier(strategy='most_frequent'), clf3, X_train, X_test, y_train, y_test, verbose = False)\n",
    "\n",
    "# svm\n",
    "clf3 = doClassifier('svm', SVC(kernel='rbf', C=1), clf3, X_train, X_test, y_train, y_test, verbose = False)\n",
    "\n",
    "#logistic regression\n",
    "clf3 = doClassifier('log', LogisticRegression(), clf3, X_train, X_test, y_train, y_test, verbose = False)\n",
    "\n",
    "# knn\n",
    "gridParams = {'n_neighbors': [1, 2, 3, 5, 7, 11, 13, 17, 19, 23],\n",
    "              'weights': ['uniform', 'distance'],\n",
    "              'metric': ['euclidean', 'manhattan']}\n",
    "gs = GridSearchCV(KNeighborsClassifier(), gridParams, verbose = 1, cv = 5, n_jobs=-1)\n",
    "gs_results = gs.fit(X, y)\n",
    "clf3 = doClassifier('knn', gs_results.best_estimator_, clf3, X_train, X_test, y_train, y_test, verbose = False)"
   ]
  },
  {
   "cell_type": "markdown",
   "metadata": {},
   "source": [
    "##### 3.4 Resultados"
   ]
  },
  {
   "cell_type": "code",
   "execution_count": 47,
   "metadata": {},
   "outputs": [
    {
     "name": "stdout",
     "output_type": "stream",
     "text": [
      "\t\t\tAcurácia\tPrecisão\tRecall\tF1-Score\n",
      "\n",
      "Dummy stratified:\t0.68\t\t0.75\t\t0.68\t0.74\n",
      "Dummy most freq.:\t0.84\t\t0.70\t\t0.84\t0.76\n",
      "SVM:\t\t\t0.84\t\t0.70\t\t0.84\t0.76\n",
      "KNN:\t\t\t0.84\t\t0.70\t\t0.84\t0.76\n",
      "Logistic regression:\t0.84\t\t0.70\t\t0.84\t0.76\n"
     ]
    },
    {
     "name": "stderr",
     "output_type": "stream",
     "text": [
      "/home/lucasnseq/anaconda3/lib/python3.7/site-packages/sklearn/metrics/classification.py:1437: UndefinedMetricWarning: Precision is ill-defined and being set to 0.0 in labels with no predicted samples.\n",
      "  'precision', 'predicted', average, warn_for)\n",
      "/home/lucasnseq/anaconda3/lib/python3.7/site-packages/sklearn/metrics/classification.py:1437: UndefinedMetricWarning: F-score is ill-defined and being set to 0.0 in labels with no predicted samples.\n",
      "  'precision', 'predicted', average, warn_for)\n",
      "/home/lucasnseq/anaconda3/lib/python3.7/site-packages/sklearn/metrics/classification.py:1437: UndefinedMetricWarning: Precision is ill-defined and being set to 0.0 in labels with no predicted samples.\n",
      "  'precision', 'predicted', average, warn_for)\n",
      "/home/lucasnseq/anaconda3/lib/python3.7/site-packages/sklearn/metrics/classification.py:1437: UndefinedMetricWarning: F-score is ill-defined and being set to 0.0 in labels with no predicted samples.\n",
      "  'precision', 'predicted', average, warn_for)\n",
      "/home/lucasnseq/anaconda3/lib/python3.7/site-packages/sklearn/metrics/classification.py:1437: UndefinedMetricWarning: Precision is ill-defined and being set to 0.0 in labels with no predicted samples.\n",
      "  'precision', 'predicted', average, warn_for)\n",
      "/home/lucasnseq/anaconda3/lib/python3.7/site-packages/sklearn/metrics/classification.py:1437: UndefinedMetricWarning: F-score is ill-defined and being set to 0.0 in labels with no predicted samples.\n",
      "  'precision', 'predicted', average, warn_for)\n",
      "/home/lucasnseq/anaconda3/lib/python3.7/site-packages/sklearn/metrics/classification.py:1437: UndefinedMetricWarning: Precision is ill-defined and being set to 0.0 in labels with no predicted samples.\n",
      "  'precision', 'predicted', average, warn_for)\n",
      "/home/lucasnseq/anaconda3/lib/python3.7/site-packages/sklearn/metrics/classification.py:1437: UndefinedMetricWarning: F-score is ill-defined and being set to 0.0 in labels with no predicted samples.\n",
      "  'precision', 'predicted', average, warn_for)\n"
     ]
    }
   ],
   "source": [
    "print('\\t\\t\\tAcurácia\\tPrecisão\\tRecall\\tF1-Score\\n')\n",
    "print('Dummy stratified:\\t{0:1.2f}\\t\\t{1:2.2f}\\t\\t{2:3.2f}\\t{3:4.2f}'.format(clf3['dummy_s'].score(X_test, y_test),\n",
    "                                                               precision_score(y_test, clf3['dummy_s'].predict(X_test), average='weighted'),\n",
    "                                                               recall_score(y_test, clf3['dummy_s'].predict(X_test), average='weighted'),\n",
    "                                                               f1_score(y_test, clf3['dummy_s'].predict(X_test), average='weighted')))\n",
    "print('Dummy most freq.:\\t{0:1.2f}\\t\\t{1:2.2f}\\t\\t{2:3.2f}\\t{3:4.2f}'.format(clf3['dummy_m'].score(X_test, y_test),\n",
    "                                                               precision_score(y_test, clf3['dummy_m'].predict(X_test), average='weighted'),\n",
    "                                                               recall_score(y_test, clf3['dummy_m'].predict(X_test), average='weighted'),\n",
    "                                                               f1_score(y_test, clf3['dummy_m'].predict(X_test), average='weighted')))\n",
    "print('SVM:\\t\\t\\t{0:1.2f}\\t\\t{1:2.2f}\\t\\t{2:3.2f}\\t{3:4.2f}'.format(clf3['svm'].score(X_test, y_test),\n",
    "                                                               precision_score(y_test, clf3['svm'].predict(X_test), average='weighted'),\n",
    "                                                               recall_score(y_test, clf3['svm'].predict(X_test), average='weighted'),\n",
    "                                                               f1_score(y_test, clf3['svm'].predict(X_test), average='weighted')))\n",
    "print('KNN:\\t\\t\\t{0:1.2f}\\t\\t{1:2.2f}\\t\\t{2:3.2f}\\t{3:4.2f}'.format(clf3['knn'].score(X_test, y_test),\n",
    "                                                               precision_score(y_test, clf3['knn'].predict(X_test), average='weighted'),\n",
    "                                                               recall_score(y_test, clf3['knn'].predict(X_test), average='weighted'),\n",
    "                                                               f1_score(y_test, clf3['knn'].predict(X_test), average='weighted')))\n",
    "print('Logistic regression:\\t{0:1.2f}\\t\\t{1:2.2f}\\t\\t{2:3.2f}\\t{3:4.2f}'.format(clf3['log'].score(X_test, y_test),\n",
    "                                                               precision_score(y_test, clf3['log'].predict(X_test), average='weighted'),\n",
    "                                                               recall_score(y_test, clf3['log'].predict(X_test), average='weighted'),\n",
    "                                                               f1_score(y_test, clf3['log'].predict(X_test), average='weighted')))"
   ]
  },
  {
   "cell_type": "markdown",
   "metadata": {},
   "source": [
    "#### 4. Adição do *pp* (público presente) aumenta acurácia do vencedor"
   ]
  },
  {
   "cell_type": "markdown",
   "metadata": {},
   "source": [
    "##### 4.1 Contrução dos dados para treino"
   ]
  },
  {
   "cell_type": "code",
   "execution_count": 48,
   "metadata": {},
   "outputs": [
    {
     "name": "stderr",
     "output_type": "stream",
     "text": [
      "/home/lucasnseq/anaconda3/lib/python3.7/site-packages/ipykernel_launcher.py:4: SettingWithCopyWarning: \n",
      "A value is trying to be set on a copy of a slice from a DataFrame.\n",
      "Try using .loc[row_indexer,col_indexer] = value instead\n",
      "\n",
      "See the caveats in the documentation: http://pandas.pydata.org/pandas-docs/stable/user_guide/indexing.html#returning-a-view-versus-a-copy\n",
      "  after removing the cwd from sys.path.\n",
      "/home/lucasnseq/anaconda3/lib/python3.7/site-packages/ipykernel_launcher.py:7: SettingWithCopyWarning: \n",
      "A value is trying to be set on a copy of a slice from a DataFrame.\n",
      "Try using .loc[row_indexer,col_indexer] = value instead\n",
      "\n",
      "See the caveats in the documentation: http://pandas.pydata.org/pandas-docs/stable/user_guide/indexing.html#returning-a-view-versus-a-copy\n",
      "  import sys\n",
      "/home/lucasnseq/anaconda3/lib/python3.7/site-packages/ipykernel_launcher.py:8: SettingWithCopyWarning: \n",
      "A value is trying to be set on a copy of a slice from a DataFrame.\n",
      "Try using .loc[row_indexer,col_indexer] = value instead\n",
      "\n",
      "See the caveats in the documentation: http://pandas.pydata.org/pandas-docs/stable/user_guide/indexing.html#returning-a-view-versus-a-copy\n",
      "  \n",
      "/home/lucasnseq/anaconda3/lib/python3.7/site-packages/ipykernel_launcher.py:9: SettingWithCopyWarning: \n",
      "A value is trying to be set on a copy of a slice from a DataFrame.\n",
      "Try using .loc[row_indexer,col_indexer] = value instead\n",
      "\n",
      "See the caveats in the documentation: http://pandas.pydata.org/pandas-docs/stable/user_guide/indexing.html#returning-a-view-versus-a-copy\n",
      "  if __name__ == '__main__':\n"
     ]
    }
   ],
   "source": [
    "# atributos\n",
    "X = df[['casa', 'visitante', 'rodada', 'pp']]\n",
    "X.columns = ['time1', 'time2', 'rodada', 'pp']\n",
    "X['casa'] = df['casa']\n",
    "X.head()\n",
    "\n",
    "X['time1'] = encoder['time'].fit_transform(X['time1'])\n",
    "X['time2'] = encoder['time'].transform(X['time2'])\n",
    "X['casa'] = encoder['time'].transform(X['casa'])\n",
    "X.head()\n",
    "X = X.values\n",
    "\n",
    "scaler_x = StandardScaler()\n",
    "X = scaler_x.fit_transform(X)"
   ]
  },
  {
   "cell_type": "code",
   "execution_count": 49,
   "metadata": {},
   "outputs": [],
   "source": [
    "y = []\n",
    "for jogo in range(len(df)):\n",
    "    if vencedor(df['casa'][jogo], df['visitante'][jogo], df['gols_c'][jogo], df['gols_v'][jogo]) == 'visitante':\n",
    "        y.append(1)\n",
    "    else:\n",
    "        y.append(0)\n",
    "y = np.array(y).reshape(-1,1)"
   ]
  },
  {
   "cell_type": "code",
   "execution_count": 50,
   "metadata": {},
   "outputs": [],
   "source": [
    "X_train, X_test, y_train, y_test = train_test_split(X, y, test_size = 0.4)"
   ]
  },
  {
   "cell_type": "markdown",
   "metadata": {},
   "source": [
    "##### 4.2 Classificadores"
   ]
  },
  {
   "cell_type": "code",
   "execution_count": 51,
   "metadata": {},
   "outputs": [],
   "source": [
    "clf4 = {}"
   ]
  },
  {
   "cell_type": "code",
   "execution_count": 52,
   "metadata": {},
   "outputs": [
    {
     "name": "stderr",
     "output_type": "stream",
     "text": [
      "/home/lucasnseq/anaconda3/lib/python3.7/site-packages/sklearn/utils/validation.py:724: DataConversionWarning: A column-vector y was passed when a 1d array was expected. Please change the shape of y to (n_samples, ), for example using ravel().\n",
      "  y = column_or_1d(y, warn=True)\n",
      "/home/lucasnseq/anaconda3/lib/python3.7/site-packages/sklearn/svm/base.py:193: FutureWarning: The default value of gamma will change from 'auto' to 'scale' in version 0.22 to account better for unscaled features. Set gamma explicitly to 'auto' or 'scale' to avoid this warning.\n",
      "  \"avoid this warning.\", FutureWarning)\n",
      "/home/lucasnseq/anaconda3/lib/python3.7/site-packages/sklearn/linear_model/logistic.py:432: FutureWarning: Default solver will be changed to 'lbfgs' in 0.22. Specify a solver to silence this warning.\n",
      "  FutureWarning)\n",
      "/home/lucasnseq/anaconda3/lib/python3.7/site-packages/sklearn/utils/validation.py:724: DataConversionWarning: A column-vector y was passed when a 1d array was expected. Please change the shape of y to (n_samples, ), for example using ravel().\n",
      "  y = column_or_1d(y, warn=True)\n",
      "[Parallel(n_jobs=-1)]: Using backend LokyBackend with 4 concurrent workers.\n"
     ]
    },
    {
     "name": "stdout",
     "output_type": "stream",
     "text": [
      "Fitting 5 folds for each of 40 candidates, totalling 200 fits\n"
     ]
    },
    {
     "name": "stderr",
     "output_type": "stream",
     "text": [
      "[Parallel(n_jobs=-1)]: Done 200 out of 200 | elapsed:    0.3s finished\n",
      "/home/lucasnseq/anaconda3/lib/python3.7/site-packages/sklearn/model_selection/_search.py:813: DeprecationWarning: The default of the `iid` parameter will change from True to False in version 0.22 and will be removed in 0.24. This will change numeric results when test-set sizes are unequal.\n",
      "  DeprecationWarning)\n",
      "/home/lucasnseq/anaconda3/lib/python3.7/site-packages/sklearn/model_selection/_search.py:714: DataConversionWarning: A column-vector y was passed when a 1d array was expected. Please change the shape of y to (n_samples, ), for example using ravel().\n",
      "  self.best_estimator_.fit(X, y, **fit_params)\n",
      "/home/lucasnseq/anaconda3/lib/python3.7/site-packages/ipykernel_launcher.py:3: DataConversionWarning: A column-vector y was passed when a 1d array was expected. Please change the shape of y to (n_samples, ), for example using ravel().\n",
      "  This is separate from the ipykernel package so we can avoid doing imports until\n"
     ]
    }
   ],
   "source": [
    "# dummy stratified\n",
    "clf4 = doClassifier('dummy_s', DummyClassifier(strategy='stratified'), clf4, X_train, X_test, y_train, y_test, verbose = False)\n",
    "\n",
    "# dummy most frequent\n",
    "clf4 = doClassifier('dummy_m', DummyClassifier(strategy='most_frequent'), clf4, X_train, X_test, y_train, y_test, verbose = False)\n",
    "\n",
    "# svm\n",
    "clf4 = doClassifier('svm', SVC(kernel='rbf', C=1), clf4, X_train, X_test, y_train, y_test, verbose = False)\n",
    "\n",
    "#logistic regression\n",
    "clf4 = doClassifier('log', LogisticRegression(), clf4, X_train, X_test, y_train, y_test, verbose = False)\n",
    "\n",
    "# knn\n",
    "gridParams = {'n_neighbors': [1, 2, 3, 5, 7, 11, 13, 17, 19, 23],\n",
    "              'weights': ['uniform', 'distance'],\n",
    "              'metric': ['euclidean', 'manhattan']}\n",
    "gs = GridSearchCV(KNeighborsClassifier(), gridParams, verbose = 1, cv = 5, n_jobs=-1)\n",
    "gs_results = gs.fit(X, y)\n",
    "clf4 = doClassifier('knn', gs_results.best_estimator_, clf4, X_train, X_test, y_train, y_test, verbose = False)"
   ]
  },
  {
   "cell_type": "markdown",
   "metadata": {},
   "source": [
    "##### 4.3 Resultados"
   ]
  },
  {
   "cell_type": "code",
   "execution_count": 53,
   "metadata": {},
   "outputs": [
    {
     "name": "stdout",
     "output_type": "stream",
     "text": [
      "\t\t\tAcurácia\tPrecisão\tRecall\tF1-Score\n",
      "\n",
      "Dummy stratified:\t0.64\t\t0.64\t\t0.71\t0.73\n",
      "Dummy most freq.:\t0.80\t\t0.64\t\t0.80\t0.71\n",
      "SVM:\t\t\t0.80\t\t0.64\t\t0.80\t0.71\n",
      "KNN:\t\t\t0.80\t\t0.64\t\t0.80\t0.71\n",
      "Logistic regression:\t0.80\t\t0.64\t\t0.80\t0.71\n"
     ]
    },
    {
     "name": "stderr",
     "output_type": "stream",
     "text": [
      "/home/lucasnseq/anaconda3/lib/python3.7/site-packages/sklearn/metrics/classification.py:1437: UndefinedMetricWarning: Precision is ill-defined and being set to 0.0 in labels with no predicted samples.\n",
      "  'precision', 'predicted', average, warn_for)\n",
      "/home/lucasnseq/anaconda3/lib/python3.7/site-packages/sklearn/metrics/classification.py:1437: UndefinedMetricWarning: F-score is ill-defined and being set to 0.0 in labels with no predicted samples.\n",
      "  'precision', 'predicted', average, warn_for)\n",
      "/home/lucasnseq/anaconda3/lib/python3.7/site-packages/sklearn/metrics/classification.py:1437: UndefinedMetricWarning: Precision is ill-defined and being set to 0.0 in labels with no predicted samples.\n",
      "  'precision', 'predicted', average, warn_for)\n",
      "/home/lucasnseq/anaconda3/lib/python3.7/site-packages/sklearn/metrics/classification.py:1437: UndefinedMetricWarning: F-score is ill-defined and being set to 0.0 in labels with no predicted samples.\n",
      "  'precision', 'predicted', average, warn_for)\n",
      "/home/lucasnseq/anaconda3/lib/python3.7/site-packages/sklearn/metrics/classification.py:1437: UndefinedMetricWarning: Precision is ill-defined and being set to 0.0 in labels with no predicted samples.\n",
      "  'precision', 'predicted', average, warn_for)\n",
      "/home/lucasnseq/anaconda3/lib/python3.7/site-packages/sklearn/metrics/classification.py:1437: UndefinedMetricWarning: F-score is ill-defined and being set to 0.0 in labels with no predicted samples.\n",
      "  'precision', 'predicted', average, warn_for)\n",
      "/home/lucasnseq/anaconda3/lib/python3.7/site-packages/sklearn/metrics/classification.py:1437: UndefinedMetricWarning: Precision is ill-defined and being set to 0.0 in labels with no predicted samples.\n",
      "  'precision', 'predicted', average, warn_for)\n",
      "/home/lucasnseq/anaconda3/lib/python3.7/site-packages/sklearn/metrics/classification.py:1437: UndefinedMetricWarning: F-score is ill-defined and being set to 0.0 in labels with no predicted samples.\n",
      "  'precision', 'predicted', average, warn_for)\n"
     ]
    }
   ],
   "source": [
    "print('\\t\\t\\tAcurácia\\tPrecisão\\tRecall\\tF1-Score\\n')\n",
    "print('Dummy stratified:\\t{0:1.2f}\\t\\t{1:2.2f}\\t\\t{2:3.2f}\\t{3:4.2f}'.format(clf4['dummy_s'].score(X_test, y_test),\n",
    "                                                               precision_score(y_test, clf4['dummy_s'].predict(X_test), average='weighted'),\n",
    "                                                               recall_score(y_test, clf4['dummy_s'].predict(X_test), average='weighted'),\n",
    "                                                               f1_score(y_test, clf4['dummy_s'].predict(X_test), average='weighted')))\n",
    "print('Dummy most freq.:\\t{0:1.2f}\\t\\t{1:2.2f}\\t\\t{2:3.2f}\\t{3:4.2f}'.format(clf4['dummy_m'].score(X_test, y_test),\n",
    "                                                               precision_score(y_test, clf4['dummy_m'].predict(X_test), average='weighted'),\n",
    "                                                               recall_score(y_test, clf4['dummy_m'].predict(X_test), average='weighted'),\n",
    "                                                               f1_score(y_test, clf4['dummy_m'].predict(X_test), average='weighted')))\n",
    "print('SVM:\\t\\t\\t{0:1.2f}\\t\\t{1:2.2f}\\t\\t{2:3.2f}\\t{3:4.2f}'.format(clf4['svm'].score(X_test, y_test),\n",
    "                                                               precision_score(y_test, clf4['svm'].predict(X_test), average='weighted'),\n",
    "                                                               recall_score(y_test, clf4['svm'].predict(X_test), average='weighted'),\n",
    "                                                               f1_score(y_test, clf4['svm'].predict(X_test), average='weighted')))\n",
    "print('KNN:\\t\\t\\t{0:1.2f}\\t\\t{1:2.2f}\\t\\t{2:3.2f}\\t{3:4.2f}'.format(clf4['knn'].score(X_test, y_test),\n",
    "                                                               precision_score(y_test, clf4['knn'].predict(X_test), average='weighted'),\n",
    "                                                               recall_score(y_test, clf4['knn'].predict(X_test), average='weighted'),\n",
    "                                                               f1_score(y_test, clf4['knn'].predict(X_test), average='weighted')))\n",
    "print('Logistic regression:\\t{0:1.2f}\\t\\t{1:2.2f}\\t\\t{2:3.2f}\\t{3:4.2f}'.format(clf4['log'].score(X_test, y_test),\n",
    "                                                               precision_score(y_test, clf4['log'].predict(X_test), average='weighted'),\n",
    "                                                               recall_score(y_test, clf4['log'].predict(X_test), average='weighted'),\n",
    "                                                               f1_score(y_test, clf4['log'].predict(X_test), average='weighted')))"
   ]
  },
  {
   "cell_type": "markdown",
   "metadata": {},
   "source": [
    "#### 5. Estimar a classificação final"
   ]
  },
  {
   "cell_type": "markdown",
   "metadata": {},
   "source": [
    "##### 5.1 Definição da base de treino"
   ]
  },
  {
   "cell_type": "code",
   "execution_count": 54,
   "metadata": {},
   "outputs": [
    {
     "name": "stderr",
     "output_type": "stream",
     "text": [
      "/home/lucasnseq/anaconda3/lib/python3.7/site-packages/ipykernel_launcher.py:4: SettingWithCopyWarning: \n",
      "A value is trying to be set on a copy of a slice from a DataFrame.\n",
      "Try using .loc[row_indexer,col_indexer] = value instead\n",
      "\n",
      "See the caveats in the documentation: http://pandas.pydata.org/pandas-docs/stable/user_guide/indexing.html#returning-a-view-versus-a-copy\n",
      "  after removing the cwd from sys.path.\n",
      "/home/lucasnseq/anaconda3/lib/python3.7/site-packages/ipykernel_launcher.py:7: SettingWithCopyWarning: \n",
      "A value is trying to be set on a copy of a slice from a DataFrame.\n",
      "Try using .loc[row_indexer,col_indexer] = value instead\n",
      "\n",
      "See the caveats in the documentation: http://pandas.pydata.org/pandas-docs/stable/user_guide/indexing.html#returning-a-view-versus-a-copy\n",
      "  import sys\n",
      "/home/lucasnseq/anaconda3/lib/python3.7/site-packages/ipykernel_launcher.py:8: SettingWithCopyWarning: \n",
      "A value is trying to be set on a copy of a slice from a DataFrame.\n",
      "Try using .loc[row_indexer,col_indexer] = value instead\n",
      "\n",
      "See the caveats in the documentation: http://pandas.pydata.org/pandas-docs/stable/user_guide/indexing.html#returning-a-view-versus-a-copy\n",
      "  \n",
      "/home/lucasnseq/anaconda3/lib/python3.7/site-packages/ipykernel_launcher.py:9: SettingWithCopyWarning: \n",
      "A value is trying to be set on a copy of a slice from a DataFrame.\n",
      "Try using .loc[row_indexer,col_indexer] = value instead\n",
      "\n",
      "See the caveats in the documentation: http://pandas.pydata.org/pandas-docs/stable/user_guide/indexing.html#returning-a-view-versus-a-copy\n",
      "  if __name__ == '__main__':\n"
     ]
    }
   ],
   "source": [
    "# atributos\n",
    "X = df[['casa', 'visitante', 'rodada', 'pp']]\n",
    "X.columns = ['time1', 'time2', 'rodada', 'pp']\n",
    "X['casa'] = df['casa']\n",
    "X.head()\n",
    "\n",
    "X['time1'] = encoder['time'].fit_transform(X['time1'])\n",
    "X['time2'] = encoder['time'].transform(X['time2'])\n",
    "X['casa'] = encoder['time'].transform(X['casa'])\n",
    "X.head()\n",
    "X = X.values\n",
    "\n",
    "scaler_x = StandardScaler()\n",
    "X = scaler_x.fit_transform(X)"
   ]
  },
  {
   "cell_type": "code",
   "execution_count": 55,
   "metadata": {},
   "outputs": [],
   "source": [
    "y = []\n",
    "for jogo in range(len(df)):\n",
    "    if vencedor(df['casa'][jogo], df['visitante'][jogo], df['gols_c'][jogo], df['gols_v'][jogo]) == 'visitante':\n",
    "        y.append(1)\n",
    "    else:\n",
    "        y.append(0)\n",
    "y = np.array(y).reshape(-1,1)"
   ]
  },
  {
   "cell_type": "code",
   "execution_count": 56,
   "metadata": {},
   "outputs": [],
   "source": [
    "X_train, X_test, y_train, y_test = X[:300], X[300:], y[:300], y[300:]"
   ]
  },
  {
   "cell_type": "markdown",
   "metadata": {},
   "source": [
    "##### 5.2 Treinamento"
   ]
  },
  {
   "cell_type": "code",
   "execution_count": 57,
   "metadata": {},
   "outputs": [
    {
     "name": "stderr",
     "output_type": "stream",
     "text": [
      "/home/lucasnseq/anaconda3/lib/python3.7/site-packages/sklearn/utils/validation.py:724: DataConversionWarning: A column-vector y was passed when a 1d array was expected. Please change the shape of y to (n_samples, ), for example using ravel().\n",
      "  y = column_or_1d(y, warn=True)\n",
      "/home/lucasnseq/anaconda3/lib/python3.7/site-packages/sklearn/svm/base.py:193: FutureWarning: The default value of gamma will change from 'auto' to 'scale' in version 0.22 to account better for unscaled features. Set gamma explicitly to 'auto' or 'scale' to avoid this warning.\n",
      "  \"avoid this warning.\", FutureWarning)\n"
     ]
    },
    {
     "data": {
      "text/plain": [
       "SVC(C=1, cache_size=200, class_weight=None, coef0=0.0,\n",
       "    decision_function_shape='ovr', degree=3, gamma='auto_deprecated',\n",
       "    kernel='rbf', max_iter=-1, probability=False, random_state=None,\n",
       "    shrinking=True, tol=0.001, verbose=False)"
      ]
     },
     "execution_count": 57,
     "metadata": {},
     "output_type": "execute_result"
    }
   ],
   "source": [
    "clf_svm = SVC(kernel='rbf', C=1)\n",
    "clf_svm.fit(X_train, y_train)"
   ]
  },
  {
   "cell_type": "markdown",
   "metadata": {},
   "source": [
    "##### 5.3 Classificação dos 300 primeiros jogos"
   ]
  },
  {
   "cell_type": "code",
   "execution_count": 58,
   "metadata": {},
   "outputs": [],
   "source": [
    "placarPred = pd.DataFrame({'time': df2['time'].values})\n",
    "placarPred['P'] = np.zeros(len(placarPred), dtype = int)\n",
    "placarPred['classificação'] = np.zeros(len(placarPred), dtype = int)"
   ]
  },
  {
   "cell_type": "code",
   "execution_count": 59,
   "metadata": {},
   "outputs": [
    {
     "data": {
      "text/html": [
       "<div>\n",
       "<style scoped>\n",
       "    .dataframe tbody tr th:only-of-type {\n",
       "        vertical-align: middle;\n",
       "    }\n",
       "\n",
       "    .dataframe tbody tr th {\n",
       "        vertical-align: top;\n",
       "    }\n",
       "\n",
       "    .dataframe thead th {\n",
       "        text-align: right;\n",
       "    }\n",
       "</style>\n",
       "<table border=\"1\" class=\"dataframe\">\n",
       "  <thead>\n",
       "    <tr style=\"text-align: right;\">\n",
       "      <th></th>\n",
       "      <th>time</th>\n",
       "      <th>P</th>\n",
       "      <th>classificação</th>\n",
       "    </tr>\n",
       "  </thead>\n",
       "  <tbody>\n",
       "    <tr>\n",
       "      <th>4</th>\n",
       "      <td>São Paulo-SP</td>\n",
       "      <td>0</td>\n",
       "      <td>0</td>\n",
       "    </tr>\n",
       "    <tr>\n",
       "      <th>0</th>\n",
       "      <td>Palmeiras-SP</td>\n",
       "      <td>0</td>\n",
       "      <td>0</td>\n",
       "    </tr>\n",
       "    <tr>\n",
       "      <th>17</th>\n",
       "      <td>América Mineiro-MG</td>\n",
       "      <td>0</td>\n",
       "      <td>0</td>\n",
       "    </tr>\n",
       "  </tbody>\n",
       "</table>\n",
       "</div>"
      ],
      "text/plain": [
       "                  time  P  classificação\n",
       "4         São Paulo-SP  0              0\n",
       "0         Palmeiras-SP  0              0\n",
       "17  América Mineiro-MG  0              0"
      ]
     },
     "execution_count": 59,
     "metadata": {},
     "output_type": "execute_result"
    }
   ],
   "source": [
    "placarPred.sample(3)"
   ]
  },
  {
   "cell_type": "code",
   "execution_count": 60,
   "metadata": {},
   "outputs": [],
   "source": [
    "def atualizaPlacar(placar, nome, pts):\n",
    "    pos = np.argmax(placar['time'] == nome)\n",
    "    placar.at[pos, 'P'] += pts\n",
    "    return placar"
   ]
  },
  {
   "cell_type": "code",
   "execution_count": 61,
   "metadata": {},
   "outputs": [
    {
     "name": "stderr",
     "output_type": "stream",
     "text": [
      "/home/lucasnseq/anaconda3/lib/python3.7/site-packages/numpy/core/fromnumeric.py:56: FutureWarning: \n",
      "The current behaviour of 'Series.argmax' is deprecated, use 'idxmax'\n",
      "instead.\n",
      "The behavior of 'argmax' will be corrected to return the positional\n",
      "maximum in the future. For now, use 'series.values.argmax' or\n",
      "'np.argmax(np.array(values))' to get the position of the maximum\n",
      "row.\n",
      "  return getattr(obj, method)(*args, **kwds)\n"
     ]
    }
   ],
   "source": [
    "# placar:\n",
    "for i in range(300):\n",
    "    row = df.loc[i]\n",
    "    vence = vencedor(row[0], row[3], row[1], row[2])\n",
    "    if vence == 'empate':\n",
    "        placarPred = atualizaPlacar(placarPred, row[0], 1)\n",
    "        placarpred = atualizaPlacar(placarPred, row[3], 1)\n",
    "    elif vence == 'casa':\n",
    "        placarPred = atualizaPlacar(placarPred, row[0], 3)\n",
    "    else:\n",
    "        placarPred = atualizaPlacar(placarPred, row[3], 3)"
   ]
  },
  {
   "cell_type": "code",
   "execution_count": 62,
   "metadata": {},
   "outputs": [
    {
     "data": {
      "text/html": [
       "<div>\n",
       "<style scoped>\n",
       "    .dataframe tbody tr th:only-of-type {\n",
       "        vertical-align: middle;\n",
       "    }\n",
       "\n",
       "    .dataframe tbody tr th {\n",
       "        vertical-align: top;\n",
       "    }\n",
       "\n",
       "    .dataframe thead th {\n",
       "        text-align: right;\n",
       "    }\n",
       "</style>\n",
       "<table border=\"1\" class=\"dataframe\">\n",
       "  <thead>\n",
       "    <tr style=\"text-align: right;\">\n",
       "      <th></th>\n",
       "      <th>time</th>\n",
       "      <th>P</th>\n",
       "      <th>classificação</th>\n",
       "    </tr>\n",
       "  </thead>\n",
       "  <tbody>\n",
       "    <tr>\n",
       "      <th>0</th>\n",
       "      <td>Palmeiras-SP</td>\n",
       "      <td>62</td>\n",
       "      <td>0</td>\n",
       "    </tr>\n",
       "    <tr>\n",
       "      <th>1</th>\n",
       "      <td>Flamengo-RJ</td>\n",
       "      <td>58</td>\n",
       "      <td>0</td>\n",
       "    </tr>\n",
       "    <tr>\n",
       "      <th>2</th>\n",
       "      <td>Internacional-RS</td>\n",
       "      <td>57</td>\n",
       "      <td>0</td>\n",
       "    </tr>\n",
       "    <tr>\n",
       "      <th>3</th>\n",
       "      <td>Grêmio-RS</td>\n",
       "      <td>52</td>\n",
       "      <td>0</td>\n",
       "    </tr>\n",
       "    <tr>\n",
       "      <th>4</th>\n",
       "      <td>São Paulo-SP</td>\n",
       "      <td>53</td>\n",
       "      <td>0</td>\n",
       "    </tr>\n",
       "    <tr>\n",
       "      <th>5</th>\n",
       "      <td>Atlético Mineiro-MG</td>\n",
       "      <td>46</td>\n",
       "      <td>0</td>\n",
       "    </tr>\n",
       "    <tr>\n",
       "      <th>6</th>\n",
       "      <td>Athletico Paranaense-PR</td>\n",
       "      <td>40</td>\n",
       "      <td>0</td>\n",
       "    </tr>\n",
       "    <tr>\n",
       "      <th>7</th>\n",
       "      <td>Cruzeiro-MG</td>\n",
       "      <td>40</td>\n",
       "      <td>0</td>\n",
       "    </tr>\n",
       "    <tr>\n",
       "      <th>8</th>\n",
       "      <td>Botafogo-RJ</td>\n",
       "      <td>35</td>\n",
       "      <td>0</td>\n",
       "    </tr>\n",
       "    <tr>\n",
       "      <th>9</th>\n",
       "      <td>Santos-SP</td>\n",
       "      <td>43</td>\n",
       "      <td>0</td>\n",
       "    </tr>\n",
       "    <tr>\n",
       "      <th>10</th>\n",
       "      <td>Bahia-BA</td>\n",
       "      <td>37</td>\n",
       "      <td>0</td>\n",
       "    </tr>\n",
       "    <tr>\n",
       "      <th>11</th>\n",
       "      <td>Fluminense-RJ</td>\n",
       "      <td>40</td>\n",
       "      <td>0</td>\n",
       "    </tr>\n",
       "    <tr>\n",
       "      <th>12</th>\n",
       "      <td>Corinthians-SP</td>\n",
       "      <td>36</td>\n",
       "      <td>0</td>\n",
       "    </tr>\n",
       "    <tr>\n",
       "      <th>13</th>\n",
       "      <td>Chapecoense-SC</td>\n",
       "      <td>31</td>\n",
       "      <td>0</td>\n",
       "    </tr>\n",
       "    <tr>\n",
       "      <th>14</th>\n",
       "      <td>Ceará-CE</td>\n",
       "      <td>34</td>\n",
       "      <td>0</td>\n",
       "    </tr>\n",
       "    <tr>\n",
       "      <th>15</th>\n",
       "      <td>Vasco-RJ</td>\n",
       "      <td>34</td>\n",
       "      <td>0</td>\n",
       "    </tr>\n",
       "    <tr>\n",
       "      <th>16</th>\n",
       "      <td>Sport-PE</td>\n",
       "      <td>30</td>\n",
       "      <td>0</td>\n",
       "    </tr>\n",
       "    <tr>\n",
       "      <th>17</th>\n",
       "      <td>América Mineiro-MG</td>\n",
       "      <td>34</td>\n",
       "      <td>0</td>\n",
       "    </tr>\n",
       "    <tr>\n",
       "      <th>18</th>\n",
       "      <td>Vitória-BA</td>\n",
       "      <td>33</td>\n",
       "      <td>0</td>\n",
       "    </tr>\n",
       "    <tr>\n",
       "      <th>19</th>\n",
       "      <td>Paraná-PR</td>\n",
       "      <td>17</td>\n",
       "      <td>0</td>\n",
       "    </tr>\n",
       "  </tbody>\n",
       "</table>\n",
       "</div>"
      ],
      "text/plain": [
       "                       time   P  classificação\n",
       "0              Palmeiras-SP  62              0\n",
       "1               Flamengo-RJ  58              0\n",
       "2          Internacional-RS  57              0\n",
       "3                 Grêmio-RS  52              0\n",
       "4              São Paulo-SP  53              0\n",
       "5       Atlético Mineiro-MG  46              0\n",
       "6   Athletico Paranaense-PR  40              0\n",
       "7               Cruzeiro-MG  40              0\n",
       "8               Botafogo-RJ  35              0\n",
       "9                 Santos-SP  43              0\n",
       "10                 Bahia-BA  37              0\n",
       "11            Fluminense-RJ  40              0\n",
       "12           Corinthians-SP  36              0\n",
       "13           Chapecoense-SC  31              0\n",
       "14                 Ceará-CE  34              0\n",
       "15                 Vasco-RJ  34              0\n",
       "16                 Sport-PE  30              0\n",
       "17       América Mineiro-MG  34              0\n",
       "18               Vitória-BA  33              0\n",
       "19                Paraná-PR  17              0"
      ]
     },
     "execution_count": 62,
     "metadata": {},
     "output_type": "execute_result"
    }
   ],
   "source": [
    "placarPred"
   ]
  },
  {
   "cell_type": "markdown",
   "metadata": {},
   "source": [
    "##### 5.4 Predição dos novos jogos"
   ]
  },
  {
   "cell_type": "code",
   "execution_count": 63,
   "metadata": {},
   "outputs": [],
   "source": [
    "pred = clf_svm.predict(X_test)"
   ]
  },
  {
   "cell_type": "code",
   "execution_count": 64,
   "metadata": {},
   "outputs": [
    {
     "name": "stderr",
     "output_type": "stream",
     "text": [
      "/home/lucasnseq/anaconda3/lib/python3.7/site-packages/numpy/core/fromnumeric.py:56: FutureWarning: \n",
      "The current behaviour of 'Series.argmax' is deprecated, use 'idxmax'\n",
      "instead.\n",
      "The behavior of 'argmax' will be corrected to return the positional\n",
      "maximum in the future. For now, use 'series.values.argmax' or\n",
      "'np.argmax(np.array(values))' to get the position of the maximum\n",
      "row.\n",
      "  return getattr(obj, method)(*args, **kwds)\n"
     ]
    }
   ],
   "source": [
    "j = 300\n",
    "for i in range(len(pred)):\n",
    "    row = df.loc[j]\n",
    "    if pred[i] == 0:\n",
    "        placarPred = atualizaPlacar(placarPred, row[3], 3)\n",
    "    else:\n",
    "        placarPred = atualizaPlacar(placarPred, row[0], 3)\n",
    "    j += 1"
   ]
  },
  {
   "cell_type": "code",
   "execution_count": 65,
   "metadata": {},
   "outputs": [
    {
     "data": {
      "text/html": [
       "<div>\n",
       "<style scoped>\n",
       "    .dataframe tbody tr th:only-of-type {\n",
       "        vertical-align: middle;\n",
       "    }\n",
       "\n",
       "    .dataframe tbody tr th {\n",
       "        vertical-align: top;\n",
       "    }\n",
       "\n",
       "    .dataframe thead th {\n",
       "        text-align: right;\n",
       "    }\n",
       "</style>\n",
       "<table border=\"1\" class=\"dataframe\">\n",
       "  <thead>\n",
       "    <tr style=\"text-align: right;\">\n",
       "      <th></th>\n",
       "      <th>time</th>\n",
       "      <th>P</th>\n",
       "      <th>classificação</th>\n",
       "    </tr>\n",
       "  </thead>\n",
       "  <tbody>\n",
       "    <tr>\n",
       "      <th>0</th>\n",
       "      <td>Palmeiras-SP</td>\n",
       "      <td>74</td>\n",
       "      <td>0</td>\n",
       "    </tr>\n",
       "    <tr>\n",
       "      <th>1</th>\n",
       "      <td>Flamengo-RJ</td>\n",
       "      <td>70</td>\n",
       "      <td>0</td>\n",
       "    </tr>\n",
       "    <tr>\n",
       "      <th>2</th>\n",
       "      <td>Internacional-RS</td>\n",
       "      <td>69</td>\n",
       "      <td>0</td>\n",
       "    </tr>\n",
       "    <tr>\n",
       "      <th>3</th>\n",
       "      <td>Grêmio-RS</td>\n",
       "      <td>64</td>\n",
       "      <td>0</td>\n",
       "    </tr>\n",
       "    <tr>\n",
       "      <th>4</th>\n",
       "      <td>São Paulo-SP</td>\n",
       "      <td>65</td>\n",
       "      <td>0</td>\n",
       "    </tr>\n",
       "    <tr>\n",
       "      <th>5</th>\n",
       "      <td>Atlético Mineiro-MG</td>\n",
       "      <td>58</td>\n",
       "      <td>0</td>\n",
       "    </tr>\n",
       "    <tr>\n",
       "      <th>6</th>\n",
       "      <td>Athletico Paranaense-PR</td>\n",
       "      <td>52</td>\n",
       "      <td>0</td>\n",
       "    </tr>\n",
       "    <tr>\n",
       "      <th>7</th>\n",
       "      <td>Cruzeiro-MG</td>\n",
       "      <td>52</td>\n",
       "      <td>0</td>\n",
       "    </tr>\n",
       "    <tr>\n",
       "      <th>8</th>\n",
       "      <td>Botafogo-RJ</td>\n",
       "      <td>47</td>\n",
       "      <td>0</td>\n",
       "    </tr>\n",
       "    <tr>\n",
       "      <th>9</th>\n",
       "      <td>Santos-SP</td>\n",
       "      <td>55</td>\n",
       "      <td>0</td>\n",
       "    </tr>\n",
       "    <tr>\n",
       "      <th>10</th>\n",
       "      <td>Bahia-BA</td>\n",
       "      <td>49</td>\n",
       "      <td>0</td>\n",
       "    </tr>\n",
       "    <tr>\n",
       "      <th>11</th>\n",
       "      <td>Fluminense-RJ</td>\n",
       "      <td>52</td>\n",
       "      <td>0</td>\n",
       "    </tr>\n",
       "    <tr>\n",
       "      <th>12</th>\n",
       "      <td>Corinthians-SP</td>\n",
       "      <td>48</td>\n",
       "      <td>0</td>\n",
       "    </tr>\n",
       "    <tr>\n",
       "      <th>13</th>\n",
       "      <td>Chapecoense-SC</td>\n",
       "      <td>43</td>\n",
       "      <td>0</td>\n",
       "    </tr>\n",
       "    <tr>\n",
       "      <th>14</th>\n",
       "      <td>Ceará-CE</td>\n",
       "      <td>46</td>\n",
       "      <td>0</td>\n",
       "    </tr>\n",
       "    <tr>\n",
       "      <th>15</th>\n",
       "      <td>Vasco-RJ</td>\n",
       "      <td>46</td>\n",
       "      <td>0</td>\n",
       "    </tr>\n",
       "    <tr>\n",
       "      <th>16</th>\n",
       "      <td>Sport-PE</td>\n",
       "      <td>42</td>\n",
       "      <td>0</td>\n",
       "    </tr>\n",
       "    <tr>\n",
       "      <th>17</th>\n",
       "      <td>América Mineiro-MG</td>\n",
       "      <td>46</td>\n",
       "      <td>0</td>\n",
       "    </tr>\n",
       "    <tr>\n",
       "      <th>18</th>\n",
       "      <td>Vitória-BA</td>\n",
       "      <td>45</td>\n",
       "      <td>0</td>\n",
       "    </tr>\n",
       "    <tr>\n",
       "      <th>19</th>\n",
       "      <td>Paraná-PR</td>\n",
       "      <td>29</td>\n",
       "      <td>0</td>\n",
       "    </tr>\n",
       "  </tbody>\n",
       "</table>\n",
       "</div>"
      ],
      "text/plain": [
       "                       time   P  classificação\n",
       "0              Palmeiras-SP  74              0\n",
       "1               Flamengo-RJ  70              0\n",
       "2          Internacional-RS  69              0\n",
       "3                 Grêmio-RS  64              0\n",
       "4              São Paulo-SP  65              0\n",
       "5       Atlético Mineiro-MG  58              0\n",
       "6   Athletico Paranaense-PR  52              0\n",
       "7               Cruzeiro-MG  52              0\n",
       "8               Botafogo-RJ  47              0\n",
       "9                 Santos-SP  55              0\n",
       "10                 Bahia-BA  49              0\n",
       "11            Fluminense-RJ  52              0\n",
       "12           Corinthians-SP  48              0\n",
       "13           Chapecoense-SC  43              0\n",
       "14                 Ceará-CE  46              0\n",
       "15                 Vasco-RJ  46              0\n",
       "16                 Sport-PE  42              0\n",
       "17       América Mineiro-MG  46              0\n",
       "18               Vitória-BA  45              0\n",
       "19                Paraná-PR  29              0"
      ]
     },
     "execution_count": 65,
     "metadata": {},
     "output_type": "execute_result"
    }
   ],
   "source": [
    "placarPred"
   ]
  },
  {
   "cell_type": "markdown",
   "metadata": {},
   "source": [
    "##### 5.5 Classificando o placar final"
   ]
  },
  {
   "cell_type": "code",
   "execution_count": 66,
   "metadata": {},
   "outputs": [
    {
     "data": {
      "text/html": [
       "<div>\n",
       "<style scoped>\n",
       "    .dataframe tbody tr th:only-of-type {\n",
       "        vertical-align: middle;\n",
       "    }\n",
       "\n",
       "    .dataframe tbody tr th {\n",
       "        vertical-align: top;\n",
       "    }\n",
       "\n",
       "    .dataframe thead th {\n",
       "        text-align: right;\n",
       "    }\n",
       "</style>\n",
       "<table border=\"1\" class=\"dataframe\">\n",
       "  <thead>\n",
       "    <tr style=\"text-align: right;\">\n",
       "      <th></th>\n",
       "      <th>time</th>\n",
       "      <th>P</th>\n",
       "      <th>classificação</th>\n",
       "    </tr>\n",
       "  </thead>\n",
       "  <tbody>\n",
       "    <tr>\n",
       "      <th>0</th>\n",
       "      <td>Palmeiras-SP</td>\n",
       "      <td>74</td>\n",
       "      <td>1</td>\n",
       "    </tr>\n",
       "    <tr>\n",
       "      <th>1</th>\n",
       "      <td>Flamengo-RJ</td>\n",
       "      <td>70</td>\n",
       "      <td>2</td>\n",
       "    </tr>\n",
       "    <tr>\n",
       "      <th>2</th>\n",
       "      <td>Internacional-RS</td>\n",
       "      <td>69</td>\n",
       "      <td>3</td>\n",
       "    </tr>\n",
       "    <tr>\n",
       "      <th>3</th>\n",
       "      <td>Grêmio-RS</td>\n",
       "      <td>64</td>\n",
       "      <td>5</td>\n",
       "    </tr>\n",
       "    <tr>\n",
       "      <th>4</th>\n",
       "      <td>São Paulo-SP</td>\n",
       "      <td>65</td>\n",
       "      <td>4</td>\n",
       "    </tr>\n",
       "    <tr>\n",
       "      <th>5</th>\n",
       "      <td>Atlético Mineiro-MG</td>\n",
       "      <td>58</td>\n",
       "      <td>6</td>\n",
       "    </tr>\n",
       "    <tr>\n",
       "      <th>6</th>\n",
       "      <td>Athletico Paranaense-PR</td>\n",
       "      <td>52</td>\n",
       "      <td>8</td>\n",
       "    </tr>\n",
       "    <tr>\n",
       "      <th>7</th>\n",
       "      <td>Cruzeiro-MG</td>\n",
       "      <td>52</td>\n",
       "      <td>8</td>\n",
       "    </tr>\n",
       "    <tr>\n",
       "      <th>8</th>\n",
       "      <td>Botafogo-RJ</td>\n",
       "      <td>47</td>\n",
       "      <td>11</td>\n",
       "    </tr>\n",
       "    <tr>\n",
       "      <th>9</th>\n",
       "      <td>Santos-SP</td>\n",
       "      <td>55</td>\n",
       "      <td>7</td>\n",
       "    </tr>\n",
       "    <tr>\n",
       "      <th>10</th>\n",
       "      <td>Bahia-BA</td>\n",
       "      <td>49</td>\n",
       "      <td>9</td>\n",
       "    </tr>\n",
       "    <tr>\n",
       "      <th>11</th>\n",
       "      <td>Fluminense-RJ</td>\n",
       "      <td>52</td>\n",
       "      <td>8</td>\n",
       "    </tr>\n",
       "    <tr>\n",
       "      <th>12</th>\n",
       "      <td>Corinthians-SP</td>\n",
       "      <td>48</td>\n",
       "      <td>10</td>\n",
       "    </tr>\n",
       "    <tr>\n",
       "      <th>13</th>\n",
       "      <td>Chapecoense-SC</td>\n",
       "      <td>43</td>\n",
       "      <td>14</td>\n",
       "    </tr>\n",
       "    <tr>\n",
       "      <th>14</th>\n",
       "      <td>Ceará-CE</td>\n",
       "      <td>46</td>\n",
       "      <td>12</td>\n",
       "    </tr>\n",
       "    <tr>\n",
       "      <th>15</th>\n",
       "      <td>Vasco-RJ</td>\n",
       "      <td>46</td>\n",
       "      <td>12</td>\n",
       "    </tr>\n",
       "    <tr>\n",
       "      <th>16</th>\n",
       "      <td>Sport-PE</td>\n",
       "      <td>42</td>\n",
       "      <td>15</td>\n",
       "    </tr>\n",
       "    <tr>\n",
       "      <th>17</th>\n",
       "      <td>América Mineiro-MG</td>\n",
       "      <td>46</td>\n",
       "      <td>12</td>\n",
       "    </tr>\n",
       "    <tr>\n",
       "      <th>18</th>\n",
       "      <td>Vitória-BA</td>\n",
       "      <td>45</td>\n",
       "      <td>13</td>\n",
       "    </tr>\n",
       "    <tr>\n",
       "      <th>19</th>\n",
       "      <td>Paraná-PR</td>\n",
       "      <td>29</td>\n",
       "      <td>16</td>\n",
       "    </tr>\n",
       "  </tbody>\n",
       "</table>\n",
       "</div>"
      ],
      "text/plain": [
       "                       time   P  classificação\n",
       "0              Palmeiras-SP  74              1\n",
       "1               Flamengo-RJ  70              2\n",
       "2          Internacional-RS  69              3\n",
       "3                 Grêmio-RS  64              5\n",
       "4              São Paulo-SP  65              4\n",
       "5       Atlético Mineiro-MG  58              6\n",
       "6   Athletico Paranaense-PR  52              8\n",
       "7               Cruzeiro-MG  52              8\n",
       "8               Botafogo-RJ  47             11\n",
       "9                 Santos-SP  55              7\n",
       "10                 Bahia-BA  49              9\n",
       "11            Fluminense-RJ  52              8\n",
       "12           Corinthians-SP  48             10\n",
       "13           Chapecoense-SC  43             14\n",
       "14                 Ceará-CE  46             12\n",
       "15                 Vasco-RJ  46             12\n",
       "16                 Sport-PE  42             15\n",
       "17       América Mineiro-MG  46             12\n",
       "18               Vitória-BA  45             13\n",
       "19                Paraná-PR  29             16"
      ]
     },
     "execution_count": 66,
     "metadata": {},
     "output_type": "execute_result"
    }
   ],
   "source": [
    "# seleciono as pontuações e ordeno decrescente\n",
    "pts = []\n",
    "for i in range(placarPred.shape[0]):\n",
    "    row = placarPred.loc[i]\n",
    "    pts.append(row[1])\n",
    "pts.sort(reverse = True)\n",
    "\n",
    "# excluo as pontuações repetidas\n",
    "j = 1\n",
    "for i in range(1, len(pts)):\n",
    "    if pts[j] == pts[j-1]:\n",
    "        pts.pop(j)\n",
    "    else:\n",
    "        j += 1\n",
    "    if j == len(pts):\n",
    "        break\n",
    "pts = np.array(pts)\n",
    "\n",
    "# atribuo a classificação\n",
    "for i in range(placarPred.shape[0]):\n",
    "    row = placarPred.loc[i]\n",
    "    pos = np.argmax(pts == row[1]) + 1\n",
    "    placarPred.at[i, 'classificação'] = pos\n",
    "placarPred"
   ]
  },
  {
   "cell_type": "markdown",
   "metadata": {},
   "source": [
    "##### 5.6 Cálculo dos erros obtidos"
   ]
  },
  {
   "cell_type": "code",
   "execution_count": 67,
   "metadata": {},
   "outputs": [
    {
     "name": "stdout",
     "output_type": "stream",
     "text": [
      "TIPO\t\t\t\tERRO\n",
      "Erro quadrático\t\t\t162.0\n",
      "Erro quadrático médio\t\t8.1\n",
      "Erro absoluto\t\t\t42.0\n",
      "Erro absoluto médio\t\t2.1\n"
     ]
    }
   ],
   "source": [
    "erro = 0.0\n",
    "erroabs = 0.0\n",
    "for i in range(placarPred.shape[0]):\n",
    "    rowPred = placarPred.loc[i]\n",
    "    rowReal = df2.loc[i]\n",
    "    erro += (rowPred[2] - rowReal[9])**2\n",
    "    erroabs += abs(rowPred[2] - rowReal[9])\n",
    "print('TIPO\\t\\t\\t\\tERRO')\n",
    "print('Erro quadrático\\t\\t\\t{}'.format(erro))\n",
    "print('Erro quadrático médio\\t\\t{}'.format(erro/placarPred.shape[0]))\n",
    "print('Erro absoluto\\t\\t\\t{}'.format(erroabs))\n",
    "print('Erro absoluto médio\\t\\t{}'.format(erroabs/placarPred.shape[0]))"
   ]
  },
  {
   "cell_type": "markdown",
   "metadata": {},
   "source": [
    "### Questão 2\n",
    "\n",
    "Um empresário está em busca de um time do campeonato brasileiro para fechar uma parceria.\n",
    "\n",
    "A parceria consiste no fornecimento de transporte e hospedagem para todos os jogos onde o time é visitante, e em contra partida o time se propõe a utilizar a logo da empresa nesses jogos e dividir a renda líquida dos jogos em 80% para o clube e 20% para a empresa.\n",
    "\n",
    "time visitante:\n",
    "    - renda_L: 80% empresa\n",
    "\n",
    "Baseado nos dados do primeiro turno do campeonato de 2018 (isto é, os 190 primeiros jogos), faça uma lista de recomendação com as três melhores opções de time para patrocinar.\n",
    "\n",
    "Suponha que a empresa consiga faturar em média 2 reais por torcedor presente.\n",
    "    - empresa - lucro por torcedor: 2.00\n",
    "\n",
    "Escolhendo a melhor opção de time para investir, faça uma análise se a opção escolhida continuou a ser boa nos 190 jogos restantes.\n"
   ]
  },
  {
   "cell_type": "code",
   "execution_count": 171,
   "metadata": {},
   "outputs": [
    {
     "data": {
      "text/html": [
       "<div>\n",
       "<style scoped>\n",
       "    .dataframe tbody tr th:only-of-type {\n",
       "        vertical-align: middle;\n",
       "    }\n",
       "\n",
       "    .dataframe tbody tr th {\n",
       "        vertical-align: top;\n",
       "    }\n",
       "\n",
       "    .dataframe thead th {\n",
       "        text-align: right;\n",
       "    }\n",
       "</style>\n",
       "<table border=\"1\" class=\"dataframe\">\n",
       "  <thead>\n",
       "    <tr style=\"text-align: right;\">\n",
       "      <th></th>\n",
       "      <th>casa</th>\n",
       "      <th>gols_c</th>\n",
       "      <th>gols_v</th>\n",
       "      <th>visitante</th>\n",
       "      <th>pp</th>\n",
       "      <th>iv</th>\n",
       "      <th>iv%</th>\n",
       "      <th>renda_L</th>\n",
       "      <th>renda_B</th>\n",
       "      <th>rodada</th>\n",
       "    </tr>\n",
       "  </thead>\n",
       "  <tbody>\n",
       "    <tr>\n",
       "      <th>185</th>\n",
       "      <td>Cruzeiro-MG</td>\n",
       "      <td>1</td>\n",
       "      <td>1</td>\n",
       "      <td>Bahia-BA</td>\n",
       "      <td>24.127</td>\n",
       "      <td>24209.0</td>\n",
       "      <td>100</td>\n",
       "      <td>280241.29</td>\n",
       "      <td>387435.0</td>\n",
       "      <td>19</td>\n",
       "    </tr>\n",
       "    <tr>\n",
       "      <th>156</th>\n",
       "      <td>Cruzeiro-MG</td>\n",
       "      <td>0</td>\n",
       "      <td>2</td>\n",
       "      <td>São Paulo-SP</td>\n",
       "      <td>21.304</td>\n",
       "      <td>21433.0</td>\n",
       "      <td>99</td>\n",
       "      <td>459586.57</td>\n",
       "      <td>641978.0</td>\n",
       "      <td>16</td>\n",
       "    </tr>\n",
       "  </tbody>\n",
       "</table>\n",
       "</div>"
      ],
      "text/plain": [
       "            casa  gols_c  gols_v     visitante      pp       iv  iv%  \\\n",
       "185  Cruzeiro-MG       1       1      Bahia-BA  24.127  24209.0  100   \n",
       "156  Cruzeiro-MG       0       2  São Paulo-SP  21.304  21433.0   99   \n",
       "\n",
       "       renda_L   renda_B  rodada  \n",
       "185  280241.29  387435.0      19  \n",
       "156  459586.57  641978.0      16  "
      ]
     },
     "execution_count": 171,
     "metadata": {},
     "output_type": "execute_result"
    }
   ],
   "source": [
    "df.sample(2)"
   ]
  },
  {
   "cell_type": "code",
   "execution_count": 172,
   "metadata": {},
   "outputs": [
    {
     "data": {
      "text/html": [
       "<div>\n",
       "<style scoped>\n",
       "    .dataframe tbody tr th:only-of-type {\n",
       "        vertical-align: middle;\n",
       "    }\n",
       "\n",
       "    .dataframe tbody tr th {\n",
       "        vertical-align: top;\n",
       "    }\n",
       "\n",
       "    .dataframe thead th {\n",
       "        text-align: right;\n",
       "    }\n",
       "</style>\n",
       "<table border=\"1\" class=\"dataframe\">\n",
       "  <thead>\n",
       "    <tr style=\"text-align: right;\">\n",
       "      <th></th>\n",
       "      <th>time</th>\n",
       "      <th>P</th>\n",
       "      <th>J</th>\n",
       "      <th>V</th>\n",
       "      <th>E</th>\n",
       "      <th>D</th>\n",
       "      <th>GP</th>\n",
       "      <th>GC</th>\n",
       "      <th>SG</th>\n",
       "      <th>classificação</th>\n",
       "    </tr>\n",
       "  </thead>\n",
       "  <tbody>\n",
       "    <tr>\n",
       "      <th>18</th>\n",
       "      <td>Vitória-BA</td>\n",
       "      <td>37</td>\n",
       "      <td>38</td>\n",
       "      <td>9</td>\n",
       "      <td>10</td>\n",
       "      <td>19</td>\n",
       "      <td>36</td>\n",
       "      <td>63</td>\n",
       "      <td>-27</td>\n",
       "      <td>19</td>\n",
       "    </tr>\n",
       "    <tr>\n",
       "      <th>4</th>\n",
       "      <td>São Paulo-SP</td>\n",
       "      <td>63</td>\n",
       "      <td>38</td>\n",
       "      <td>16</td>\n",
       "      <td>15</td>\n",
       "      <td>7</td>\n",
       "      <td>46</td>\n",
       "      <td>34</td>\n",
       "      <td>12</td>\n",
       "      <td>5</td>\n",
       "    </tr>\n",
       "  </tbody>\n",
       "</table>\n",
       "</div>"
      ],
      "text/plain": [
       "            time   P   J   V   E   D  GP  GC  SG  classificação\n",
       "18    Vitória-BA  37  38   9  10  19  36  63 -27             19\n",
       "4   São Paulo-SP  63  38  16  15   7  46  34  12              5"
      ]
     },
     "execution_count": 172,
     "metadata": {},
     "output_type": "execute_result"
    }
   ],
   "source": [
    "df2.sample(2)"
   ]
  },
  {
   "cell_type": "markdown",
   "metadata": {},
   "source": [
    "#### 6. Interpretação dos dados"
   ]
  },
  {
   "cell_type": "markdown",
   "metadata": {},
   "source": [
    "##### 6.1 Ajuste dos valores"
   ]
  },
  {
   "cell_type": "code",
   "execution_count": 173,
   "metadata": {},
   "outputs": [],
   "source": [
    "def realToFloat(value):\n",
    "    temp = value.split(' ')[1]\n",
    "    temp = temp.split(',')\n",
    "    left = temp[0].split('.')\n",
    "    right = temp[1]\n",
    "    temp = 0.0\n",
    "    for i, txt in enumerate(left[::-1]):\n",
    "        num = float(txt)\n",
    "        temp += num*10**(3*i)\n",
    "    temp += float(right)/100\n",
    "    return temp"
   ]
  },
  {
   "cell_type": "code",
   "execution_count": 174,
   "metadata": {},
   "outputs": [
    {
     "ename": "AttributeError",
     "evalue": "'float' object has no attribute 'split'",
     "output_type": "error",
     "traceback": [
      "\u001b[0;31m---------------------------------------------------------------------------\u001b[0m",
      "\u001b[0;31mAttributeError\u001b[0m                            Traceback (most recent call last)",
      "\u001b[0;32m<ipython-input-174-42280c969f62>\u001b[0m in \u001b[0;36m<module>\u001b[0;34m\u001b[0m\n\u001b[0;32m----> 1\u001b[0;31m \u001b[0mdf\u001b[0m\u001b[0;34m[\u001b[0m\u001b[0;34m'renda_L'\u001b[0m\u001b[0;34m]\u001b[0m \u001b[0;34m=\u001b[0m \u001b[0mdf\u001b[0m\u001b[0;34m[\u001b[0m\u001b[0;34m'renda_L'\u001b[0m\u001b[0;34m]\u001b[0m\u001b[0;34m.\u001b[0m\u001b[0mapply\u001b[0m\u001b[0;34m(\u001b[0m\u001b[0mrealToFloat\u001b[0m\u001b[0;34m)\u001b[0m\u001b[0;34m\u001b[0m\u001b[0;34m\u001b[0m\u001b[0m\n\u001b[0m\u001b[1;32m      2\u001b[0m \u001b[0mdf\u001b[0m\u001b[0;34m[\u001b[0m\u001b[0;34m'renda_B'\u001b[0m\u001b[0;34m]\u001b[0m \u001b[0;34m=\u001b[0m \u001b[0mdf\u001b[0m\u001b[0;34m[\u001b[0m\u001b[0;34m'renda_B'\u001b[0m\u001b[0;34m]\u001b[0m\u001b[0;34m.\u001b[0m\u001b[0mapply\u001b[0m\u001b[0;34m(\u001b[0m\u001b[0mrealToFloat\u001b[0m\u001b[0;34m)\u001b[0m\u001b[0;34m\u001b[0m\u001b[0;34m\u001b[0m\u001b[0m\n",
      "\u001b[0;32m~/anaconda3/lib/python3.7/site-packages/pandas/core/series.py\u001b[0m in \u001b[0;36mapply\u001b[0;34m(self, func, convert_dtype, args, **kwds)\u001b[0m\n\u001b[1;32m   4036\u001b[0m             \u001b[0;32melse\u001b[0m\u001b[0;34m:\u001b[0m\u001b[0;34m\u001b[0m\u001b[0;34m\u001b[0m\u001b[0m\n\u001b[1;32m   4037\u001b[0m                 \u001b[0mvalues\u001b[0m \u001b[0;34m=\u001b[0m \u001b[0mself\u001b[0m\u001b[0;34m.\u001b[0m\u001b[0mastype\u001b[0m\u001b[0;34m(\u001b[0m\u001b[0mobject\u001b[0m\u001b[0;34m)\u001b[0m\u001b[0;34m.\u001b[0m\u001b[0mvalues\u001b[0m\u001b[0;34m\u001b[0m\u001b[0;34m\u001b[0m\u001b[0m\n\u001b[0;32m-> 4038\u001b[0;31m                 \u001b[0mmapped\u001b[0m \u001b[0;34m=\u001b[0m \u001b[0mlib\u001b[0m\u001b[0;34m.\u001b[0m\u001b[0mmap_infer\u001b[0m\u001b[0;34m(\u001b[0m\u001b[0mvalues\u001b[0m\u001b[0;34m,\u001b[0m \u001b[0mf\u001b[0m\u001b[0;34m,\u001b[0m \u001b[0mconvert\u001b[0m\u001b[0;34m=\u001b[0m\u001b[0mconvert_dtype\u001b[0m\u001b[0;34m)\u001b[0m\u001b[0;34m\u001b[0m\u001b[0;34m\u001b[0m\u001b[0m\n\u001b[0m\u001b[1;32m   4039\u001b[0m \u001b[0;34m\u001b[0m\u001b[0m\n\u001b[1;32m   4040\u001b[0m         \u001b[0;32mif\u001b[0m \u001b[0mlen\u001b[0m\u001b[0;34m(\u001b[0m\u001b[0mmapped\u001b[0m\u001b[0;34m)\u001b[0m \u001b[0;32mand\u001b[0m \u001b[0misinstance\u001b[0m\u001b[0;34m(\u001b[0m\u001b[0mmapped\u001b[0m\u001b[0;34m[\u001b[0m\u001b[0;36m0\u001b[0m\u001b[0;34m]\u001b[0m\u001b[0;34m,\u001b[0m \u001b[0mSeries\u001b[0m\u001b[0;34m)\u001b[0m\u001b[0;34m:\u001b[0m\u001b[0;34m\u001b[0m\u001b[0;34m\u001b[0m\u001b[0m\n",
      "\u001b[0;32mpandas/_libs/lib.pyx\u001b[0m in \u001b[0;36mpandas._libs.lib.map_infer\u001b[0;34m()\u001b[0m\n",
      "\u001b[0;32m<ipython-input-173-ad0dc1c60371>\u001b[0m in \u001b[0;36mrealToFloat\u001b[0;34m(value)\u001b[0m\n\u001b[1;32m      1\u001b[0m \u001b[0;32mdef\u001b[0m \u001b[0mrealToFloat\u001b[0m\u001b[0;34m(\u001b[0m\u001b[0mvalue\u001b[0m\u001b[0;34m)\u001b[0m\u001b[0;34m:\u001b[0m\u001b[0;34m\u001b[0m\u001b[0;34m\u001b[0m\u001b[0m\n\u001b[0;32m----> 2\u001b[0;31m     \u001b[0mtemp\u001b[0m \u001b[0;34m=\u001b[0m \u001b[0mvalue\u001b[0m\u001b[0;34m.\u001b[0m\u001b[0msplit\u001b[0m\u001b[0;34m(\u001b[0m\u001b[0;34m' '\u001b[0m\u001b[0;34m)\u001b[0m\u001b[0;34m[\u001b[0m\u001b[0;36m1\u001b[0m\u001b[0;34m]\u001b[0m\u001b[0;34m\u001b[0m\u001b[0;34m\u001b[0m\u001b[0m\n\u001b[0m\u001b[1;32m      3\u001b[0m     \u001b[0mtemp\u001b[0m \u001b[0;34m=\u001b[0m \u001b[0mtemp\u001b[0m\u001b[0;34m.\u001b[0m\u001b[0msplit\u001b[0m\u001b[0;34m(\u001b[0m\u001b[0;34m','\u001b[0m\u001b[0;34m)\u001b[0m\u001b[0;34m\u001b[0m\u001b[0;34m\u001b[0m\u001b[0m\n\u001b[1;32m      4\u001b[0m     \u001b[0mleft\u001b[0m \u001b[0;34m=\u001b[0m \u001b[0mtemp\u001b[0m\u001b[0;34m[\u001b[0m\u001b[0;36m0\u001b[0m\u001b[0;34m]\u001b[0m\u001b[0;34m.\u001b[0m\u001b[0msplit\u001b[0m\u001b[0;34m(\u001b[0m\u001b[0;34m'.'\u001b[0m\u001b[0;34m)\u001b[0m\u001b[0;34m\u001b[0m\u001b[0;34m\u001b[0m\u001b[0m\n\u001b[1;32m      5\u001b[0m     \u001b[0mright\u001b[0m \u001b[0;34m=\u001b[0m \u001b[0mtemp\u001b[0m\u001b[0;34m[\u001b[0m\u001b[0;36m1\u001b[0m\u001b[0;34m]\u001b[0m\u001b[0;34m\u001b[0m\u001b[0;34m\u001b[0m\u001b[0m\n",
      "\u001b[0;31mAttributeError\u001b[0m: 'float' object has no attribute 'split'"
     ]
    }
   ],
   "source": [
    "df['renda_L'] = df['renda_L'].apply(realToFloat)\n",
    "df['renda_B'] = df['renda_B'].apply(realToFloat)"
   ]
  },
  {
   "cell_type": "code",
   "execution_count": 175,
   "metadata": {},
   "outputs": [],
   "source": [
    "df['iv'] = df['iv'].apply(lambda x : x*1000)"
   ]
  },
  {
   "cell_type": "code",
   "execution_count": 176,
   "metadata": {},
   "outputs": [
    {
     "data": {
      "text/html": [
       "<div>\n",
       "<style scoped>\n",
       "    .dataframe tbody tr th:only-of-type {\n",
       "        vertical-align: middle;\n",
       "    }\n",
       "\n",
       "    .dataframe tbody tr th {\n",
       "        vertical-align: top;\n",
       "    }\n",
       "\n",
       "    .dataframe thead th {\n",
       "        text-align: right;\n",
       "    }\n",
       "</style>\n",
       "<table border=\"1\" class=\"dataframe\">\n",
       "  <thead>\n",
       "    <tr style=\"text-align: right;\">\n",
       "      <th></th>\n",
       "      <th>casa</th>\n",
       "      <th>gols_c</th>\n",
       "      <th>gols_v</th>\n",
       "      <th>visitante</th>\n",
       "      <th>pp</th>\n",
       "      <th>iv</th>\n",
       "      <th>iv%</th>\n",
       "      <th>renda_L</th>\n",
       "      <th>renda_B</th>\n",
       "      <th>rodada</th>\n",
       "    </tr>\n",
       "  </thead>\n",
       "  <tbody>\n",
       "    <tr>\n",
       "      <th>72</th>\n",
       "      <td>Flamengo-RJ</td>\n",
       "      <td>2</td>\n",
       "      <td>0</td>\n",
       "      <td>Bahia-BA</td>\n",
       "      <td>50.141</td>\n",
       "      <td>50860000.0</td>\n",
       "      <td>99</td>\n",
       "      <td>492014.35</td>\n",
       "      <td>1780859.0</td>\n",
       "      <td>8</td>\n",
       "    </tr>\n",
       "    <tr>\n",
       "      <th>372</th>\n",
       "      <td>Sport-PE</td>\n",
       "      <td>2</td>\n",
       "      <td>1</td>\n",
       "      <td>Santos-SP</td>\n",
       "      <td>15.214</td>\n",
       "      <td>15214000.0</td>\n",
       "      <td>100</td>\n",
       "      <td>111143.93</td>\n",
       "      <td>225305.0</td>\n",
       "      <td>38</td>\n",
       "    </tr>\n",
       "  </tbody>\n",
       "</table>\n",
       "</div>"
      ],
      "text/plain": [
       "            casa  gols_c  gols_v  visitante      pp          iv  iv%  \\\n",
       "72   Flamengo-RJ       2       0   Bahia-BA  50.141  50860000.0   99   \n",
       "372     Sport-PE       2       1  Santos-SP  15.214  15214000.0  100   \n",
       "\n",
       "       renda_L    renda_B  rodada  \n",
       "72   492014.35  1780859.0       8  \n",
       "372  111143.93   225305.0      38  "
      ]
     },
     "execution_count": 176,
     "metadata": {},
     "output_type": "execute_result"
    }
   ],
   "source": [
    "df.sample(2)"
   ]
  },
  {
   "cell_type": "markdown",
   "metadata": {},
   "source": [
    "##### 6.2 Seleção dos 190 primeiros jogos"
   ]
  },
  {
   "cell_type": "code",
   "execution_count": 177,
   "metadata": {},
   "outputs": [],
   "source": [
    "base = df.loc[:189]\n",
    "base = base.drop(['casa', 'gols_c', 'gols_v', 'pp', 'iv%', 'renda_B'], axis = 1)"
   ]
  },
  {
   "cell_type": "code",
   "execution_count": 178,
   "metadata": {},
   "outputs": [
    {
     "data": {
      "text/plain": [
       "(190, 4)"
      ]
     },
     "execution_count": 178,
     "metadata": {},
     "output_type": "execute_result"
    }
   ],
   "source": [
    "base.shape"
   ]
  },
  {
   "cell_type": "code",
   "execution_count": 179,
   "metadata": {},
   "outputs": [
    {
     "data": {
      "text/plain": [
       "Index(['visitante', 'iv', 'renda_L', 'rodada'], dtype='object')"
      ]
     },
     "execution_count": 179,
     "metadata": {},
     "output_type": "execute_result"
    }
   ],
   "source": [
    "base.columns"
   ]
  },
  {
   "cell_type": "markdown",
   "metadata": {},
   "source": [
    "##### 6.3 Séries temporais"
   ]
  },
  {
   "cell_type": "code",
   "execution_count": 180,
   "metadata": {},
   "outputs": [],
   "source": [
    "base_group = base.groupby(['visitante'])"
   ]
  },
  {
   "cell_type": "code",
   "execution_count": 181,
   "metadata": {},
   "outputs": [],
   "source": [
    "serie_iv = {}\n",
    "serie_renda_L = {}\n",
    "serie_rodada = {}"
   ]
  },
  {
   "cell_type": "code",
   "execution_count": 182,
   "metadata": {},
   "outputs": [],
   "source": [
    "for time in base['visitante'].unique():\n",
    "    index = base_group.groups[time]\n",
    "    tabela_time = base.iloc[index]\n",
    "    serie_iv[time] = tabela_time['iv'].values\n",
    "    serie_renda_L[time] = tabela_time['renda_L'].values\n",
    "    serie_rodada[time] = tabela_time['rodada'].values"
   ]
  },
  {
   "cell_type": "markdown",
   "metadata": {},
   "source": [
    "##### 6.4 Séries temporais (vizualização)"
   ]
  },
  {
   "cell_type": "code",
   "execution_count": 183,
   "metadata": {},
   "outputs": [],
   "source": [
    "from sklearn.linear_model import LinearRegression"
   ]
  },
  {
   "cell_type": "code",
   "execution_count": 184,
   "metadata": {},
   "outputs": [
    {
     "data": {
      "text/plain": [
       "Text(0, 0.5, 'renda_L')"
      ]
     },
     "execution_count": 184,
     "metadata": {},
     "output_type": "execute_result"
    },
    {
     "data": {
      "image/png": "[encoded data removed]",
      "text/plain": [
       "<Figure size 1080x576 with 1 Axes>"
      ]
     },
     "metadata": {
      "needs_background": "light"
     },
     "output_type": "display_data"
    }
   ],
   "source": [
    "time = 'Corinthians-SP'\n",
    "reg = LinearRegression()\n",
    "reg.fit(serie_rodada[time].reshape(-1,1), serie_renda_L[time].reshape(-1,1))\n",
    "\n",
    "x = np.linspace(serie_rodada[time].min(), serie_rodada[time].max())\n",
    "y = reg.predict(x.reshape(-1,1))\n",
    "\n",
    "plt.figure(figsize=(15,8))\n",
    "plt.plot(serie_rodada[time], serie_renda_L[time],label = time)\n",
    "plt.plot(x, y, '--', label = time + ' (regression)')\n",
    "plt.legend()\n",
    "plt.xlabel('rodada')\n",
    "plt.ylabel('renda_L')"
   ]
  },
  {
   "cell_type": "code",
   "execution_count": 185,
   "metadata": {},
   "outputs": [
    {
     "data": {
      "text/plain": [
       "Text(0, 0.5, 'iv')"
      ]
     },
     "execution_count": 185,
     "metadata": {},
     "output_type": "execute_result"
    },
    {
     "data": {
      "image/png": "[encoded data removed]",
      "text/plain": [
       "<Figure size 1080x576 with 1 Axes>"
      ]
     },
     "metadata": {
      "needs_background": "light"
     },
     "output_type": "display_data"
    }
   ],
   "source": [
    "time = 'Corinthians-SP'\n",
    "reg = LinearRegression()\n",
    "reg.fit(serie_rodada[time].reshape(-1,1), serie_iv[time].reshape(-1,1))\n",
    "\n",
    "x = np.linspace(serie_rodada[time].min(), serie_rodada[time].max())\n",
    "y = reg.predict(x.reshape(-1,1))\n",
    "\n",
    "plt.figure(figsize=(15,8))\n",
    "plt.plot(serie_rodada[time], serie_iv[time],label = time)\n",
    "plt.plot(x, y, '--', label = time + ' (regression)')\n",
    "plt.legend()\n",
    "plt.xlabel('rodada')\n",
    "plt.ylabel('iv')"
   ]
  },
  {
   "cell_type": "markdown",
   "metadata": {},
   "source": [
    "##### 6.5 Tendência por regressão"
   ]
  },
  {
   "cell_type": "code",
   "execution_count": 186,
   "metadata": {},
   "outputs": [],
   "source": [
    "regs_iv = {}\n",
    "regs_renda_L = {}\n",
    "for time in base['visitante'].unique():\n",
    "    regs_iv[time] = LinearRegression()\n",
    "    regs_iv[time].fit(serie_rodada[time].reshape(-1,1), serie_iv[time].reshape(-1,1))\n",
    "    \n",
    "    regs_renda_L[time] = LinearRegression()\n",
    "    regs_renda_L[time].fit(serie_rodada[time].reshape(-1,1), serie_renda_L[time].reshape(-1,1))"
   ]
  },
  {
   "cell_type": "markdown",
   "metadata": {},
   "source": [
    "##### 6.6 Tabela de valores para patrocinador"
   ]
  },
  {
   "cell_type": "code",
   "execution_count": 221,
   "metadata": {
    "scrolled": false
   },
   "outputs": [],
   "source": [
    "PCTG = 0.2\n",
    "\n",
    "tabela = pd.DataFrame({'time' : base['visitante'].unique()})\n",
    "ivs_media = []\n",
    "rendas_media = []\n",
    "ivs_tend = []\n",
    "rendas_tend = []\n",
    "for time in base['visitante'].unique():\n",
    "    ivs_media.append(serie_iv[time].mean()*PCTG)\n",
    "    rendas_media.append(serie_renda_L[time].mean()*PCTG)\n",
    "    ivs_tend.append(regs_iv[time].coef_[0][0])\n",
    "    rendas_tend.append(regs_renda_L[time].coef_[0][0])\n",
    "tabela['IV [por jogo]'] = ivs_media\n",
    "tabela['TEND IV'] = ivs_tend\n",
    "tabela['RENDA LIQ [por jogo]'] = rendas_media\n",
    "tabela['TEND RENDA LIQ'] = rendas_tend"
   ]
  },
  {
   "cell_type": "code",
   "execution_count": 222,
   "metadata": {},
   "outputs": [
    {
     "name": "stderr",
     "output_type": "stream",
     "text": [
      "/home/lucasnseq/anaconda3/lib/python3.7/site-packages/ipykernel_launcher.py:8: RuntimeWarning: divide by zero encountered in double_scalars\n",
      "  \n"
     ]
    }
   ],
   "source": [
    "from sklearn.preprocessing import MinMaxScaler\n",
    "\n",
    "def score(tabela):\n",
    "    scaler = MinMaxScaler()\n",
    "    aux = scaler.fit_transform(tabela[['IV [por jogo]', 'TEND IV', 'RENDA LIQ [por jogo]', 'TEND RENDA LIQ']])\n",
    "    pts = []\n",
    "    for i in range(len(aux)):\n",
    "        pts.append(4/((1/aux[i][0]) + (1/aux[i][1]) + (1/aux[i][2]) +(1/aux[i][3])))\n",
    "    pts = MinMaxScaler().fit_transform(np.array(pts).reshape(-1,1))\n",
    "    tabela['score'] = pts\n",
    "    return tabela\n",
    "\n",
    "tabela = score(tabela)"
   ]
  },
  {
   "cell_type": "code",
   "execution_count": 223,
   "metadata": {},
   "outputs": [
    {
     "data": {
      "text/html": [
       "<div>\n",
       "<style scoped>\n",
       "    .dataframe tbody tr th:only-of-type {\n",
       "        vertical-align: middle;\n",
       "    }\n",
       "\n",
       "    .dataframe tbody tr th {\n",
       "        vertical-align: top;\n",
       "    }\n",
       "\n",
       "    .dataframe thead th {\n",
       "        text-align: right;\n",
       "    }\n",
       "</style>\n",
       "<table border=\"1\" class=\"dataframe\">\n",
       "  <thead>\n",
       "    <tr style=\"text-align: right;\">\n",
       "      <th></th>\n",
       "      <th>time</th>\n",
       "      <th>IV [por jogo]</th>\n",
       "      <th>TEND IV</th>\n",
       "      <th>RENDA LIQ [por jogo]</th>\n",
       "      <th>TEND RENDA LIQ</th>\n",
       "      <th>score</th>\n",
       "    </tr>\n",
       "  </thead>\n",
       "  <tbody>\n",
       "    <tr>\n",
       "      <th>15</th>\n",
       "      <td>Vasco-RJ</td>\n",
       "      <td>4.563511e+06</td>\n",
       "      <td>1.475593e+06</td>\n",
       "      <td>75567.051111</td>\n",
       "      <td>71007.315536</td>\n",
       "      <td>1.000000</td>\n",
       "    </tr>\n",
       "    <tr>\n",
       "      <th>17</th>\n",
       "      <td>Corinthians-SP</td>\n",
       "      <td>5.602356e+06</td>\n",
       "      <td>5.792028e+05</td>\n",
       "      <td>106828.385333</td>\n",
       "      <td>15621.675620</td>\n",
       "      <td>0.963377</td>\n",
       "    </tr>\n",
       "    <tr>\n",
       "      <th>0</th>\n",
       "      <td>Paraná-PR</td>\n",
       "      <td>4.205533e+06</td>\n",
       "      <td>1.652410e+06</td>\n",
       "      <td>78225.741111</td>\n",
       "      <td>60449.732035</td>\n",
       "      <td>0.952149</td>\n",
       "    </tr>\n",
       "    <tr>\n",
       "      <th>8</th>\n",
       "      <td>Flamengo-RJ</td>\n",
       "      <td>5.258800e+06</td>\n",
       "      <td>-4.695919e+05</td>\n",
       "      <td>115697.089556</td>\n",
       "      <td>-1149.135895</td>\n",
       "      <td>0.719315</td>\n",
       "    </tr>\n",
       "    <tr>\n",
       "      <th>13</th>\n",
       "      <td>São Paulo-SP</td>\n",
       "      <td>4.517760e+06</td>\n",
       "      <td>-9.730011e+04</td>\n",
       "      <td>75025.435200</td>\n",
       "      <td>6006.785175</td>\n",
       "      <td>0.697735</td>\n",
       "    </tr>\n",
       "  </tbody>\n",
       "</table>\n",
       "</div>"
      ],
      "text/plain": [
       "              time  IV [por jogo]       TEND IV  RENDA LIQ [por jogo]  \\\n",
       "15        Vasco-RJ   4.563511e+06  1.475593e+06          75567.051111   \n",
       "17  Corinthians-SP   5.602356e+06  5.792028e+05         106828.385333   \n",
       "0        Paraná-PR   4.205533e+06  1.652410e+06          78225.741111   \n",
       "8      Flamengo-RJ   5.258800e+06 -4.695919e+05         115697.089556   \n",
       "13    São Paulo-SP   4.517760e+06 -9.730011e+04          75025.435200   \n",
       "\n",
       "    TEND RENDA LIQ     score  \n",
       "15    71007.315536  1.000000  \n",
       "17    15621.675620  0.963377  \n",
       "0     60449.732035  0.952149  \n",
       "8     -1149.135895  0.719315  \n",
       "13     6006.785175  0.697735  "
      ]
     },
     "execution_count": 223,
     "metadata": {},
     "output_type": "execute_result"
    }
   ],
   "source": [
    "tabela.sort_values(by = 'score', ascending=False).head(5)"
   ]
  },
  {
   "cell_type": "code",
   "execution_count": 224,
   "metadata": {},
   "outputs": [
    {
     "data": {
      "text/html": [
       "<div>\n",
       "<style scoped>\n",
       "    .dataframe tbody tr th:only-of-type {\n",
       "        vertical-align: middle;\n",
       "    }\n",
       "\n",
       "    .dataframe tbody tr th {\n",
       "        vertical-align: top;\n",
       "    }\n",
       "\n",
       "    .dataframe thead th {\n",
       "        text-align: right;\n",
       "    }\n",
       "</style>\n",
       "<table border=\"1\" class=\"dataframe\">\n",
       "  <thead>\n",
       "    <tr style=\"text-align: right;\">\n",
       "      <th></th>\n",
       "      <th>IV [por jogo]</th>\n",
       "      <th>TEND IV</th>\n",
       "      <th>RENDA LIQ [por jogo]</th>\n",
       "      <th>TEND RENDA LIQ</th>\n",
       "      <th>score</th>\n",
       "    </tr>\n",
       "  </thead>\n",
       "  <tbody>\n",
       "    <tr>\n",
       "      <th>count</th>\n",
       "      <td>2.000000e+01</td>\n",
       "      <td>2.000000e+01</td>\n",
       "      <td>20.000000</td>\n",
       "      <td>20.000000</td>\n",
       "      <td>20.000000</td>\n",
       "    </tr>\n",
       "    <tr>\n",
       "      <th>mean</th>\n",
       "      <td>3.677531e+06</td>\n",
       "      <td>1.113108e+05</td>\n",
       "      <td>53836.223482</td>\n",
       "      <td>1577.649192</td>\n",
       "      <td>0.423102</td>\n",
       "    </tr>\n",
       "    <tr>\n",
       "      <th>std</th>\n",
       "      <td>8.546400e+05</td>\n",
       "      <td>8.906744e+05</td>\n",
       "      <td>26162.086964</td>\n",
       "      <td>30454.209750</td>\n",
       "      <td>0.306202</td>\n",
       "    </tr>\n",
       "    <tr>\n",
       "      <th>min</th>\n",
       "      <td>2.415860e+06</td>\n",
       "      <td>-1.854231e+06</td>\n",
       "      <td>20540.162600</td>\n",
       "      <td>-44418.476758</td>\n",
       "      <td>0.000000</td>\n",
       "    </tr>\n",
       "    <tr>\n",
       "      <th>25%</th>\n",
       "      <td>3.091122e+06</td>\n",
       "      <td>-3.808679e+05</td>\n",
       "      <td>38516.483200</td>\n",
       "      <td>-25063.114137</td>\n",
       "      <td>0.281955</td>\n",
       "    </tr>\n",
       "    <tr>\n",
       "      <th>50%</th>\n",
       "      <td>3.540942e+06</td>\n",
       "      <td>1.055522e+05</td>\n",
       "      <td>47570.146989</td>\n",
       "      <td>999.179885</td>\n",
       "      <td>0.348827</td>\n",
       "    </tr>\n",
       "    <tr>\n",
       "      <th>75%</th>\n",
       "      <td>4.207035e+06</td>\n",
       "      <td>7.410432e+05</td>\n",
       "      <td>72926.504700</td>\n",
       "      <td>10389.064087</td>\n",
       "      <td>0.510912</td>\n",
       "    </tr>\n",
       "    <tr>\n",
       "      <th>max</th>\n",
       "      <td>5.602356e+06</td>\n",
       "      <td>1.652410e+06</td>\n",
       "      <td>115697.089556</td>\n",
       "      <td>71007.315536</td>\n",
       "      <td>1.000000</td>\n",
       "    </tr>\n",
       "  </tbody>\n",
       "</table>\n",
       "</div>"
      ],
      "text/plain": [
       "       IV [por jogo]       TEND IV  RENDA LIQ [por jogo]  TEND RENDA LIQ  \\\n",
       "count   2.000000e+01  2.000000e+01             20.000000       20.000000   \n",
       "mean    3.677531e+06  1.113108e+05          53836.223482     1577.649192   \n",
       "std     8.546400e+05  8.906744e+05          26162.086964    30454.209750   \n",
       "min     2.415860e+06 -1.854231e+06          20540.162600   -44418.476758   \n",
       "25%     3.091122e+06 -3.808679e+05          38516.483200   -25063.114137   \n",
       "50%     3.540942e+06  1.055522e+05          47570.146989      999.179885   \n",
       "75%     4.207035e+06  7.410432e+05          72926.504700    10389.064087   \n",
       "max     5.602356e+06  1.652410e+06         115697.089556    71007.315536   \n",
       "\n",
       "           score  \n",
       "count  20.000000  \n",
       "mean    0.423102  \n",
       "std     0.306202  \n",
       "min     0.000000  \n",
       "25%     0.281955  \n",
       "50%     0.348827  \n",
       "75%     0.510912  \n",
       "max     1.000000  "
      ]
     },
     "execution_count": 224,
     "metadata": {},
     "output_type": "execute_result"
    }
   ],
   "source": [
    "tabela.describe()"
   ]
  },
  {
   "cell_type": "markdown",
   "metadata": {},
   "source": [
    "##### 6.8 Análise aos 190 últimos jogos"
   ]
  },
  {
   "cell_type": "code",
   "execution_count": 225,
   "metadata": {},
   "outputs": [],
   "source": [
    "base_last = df.loc[190:].reset_index(drop = True)\n",
    "base_last = base_last.drop(['casa', 'gols_c', 'gols_v', 'pp', 'iv%', 'renda_B'], axis = 1)"
   ]
  },
  {
   "cell_type": "code",
   "execution_count": 226,
   "metadata": {},
   "outputs": [],
   "source": [
    "base_group_last = base_last.groupby(['visitante'])"
   ]
  },
  {
   "cell_type": "code",
   "execution_count": 227,
   "metadata": {},
   "outputs": [],
   "source": [
    "serie_iv_last = {}\n",
    "serie_renda_L_last = {}\n",
    "serie_rodada_last = {}"
   ]
  },
  {
   "cell_type": "code",
   "execution_count": 228,
   "metadata": {},
   "outputs": [],
   "source": [
    "for time in base_last['visitante'].unique():\n",
    "    index = base_group_last.groups[time]\n",
    "    tabela_time = base_last.iloc[index]\n",
    "    serie_iv_last[time] = tabela_time['iv'].values\n",
    "    serie_renda_L_last[time] = tabela_time['renda_L'].values\n",
    "    serie_rodada_last[time] = tabela_time['rodada'].values"
   ]
  },
  {
   "cell_type": "code",
   "execution_count": 229,
   "metadata": {},
   "outputs": [
    {
     "data": {
      "text/plain": [
       "Text(0, 0.5, 'iv')"
      ]
     },
     "execution_count": 229,
     "metadata": {},
     "output_type": "execute_result"
    },
    {
     "data": {
      "image/png": "[encoded data removed]",
      "text/plain": [
       "<Figure size 1080x576 with 1 Axes>"
      ]
     },
     "metadata": {
      "needs_background": "light"
     },
     "output_type": "display_data"
    }
   ],
   "source": [
    "time = 'Corinthians-SP'\n",
    "reg = LinearRegression()\n",
    "reg.fit(serie_rodada_last[time].reshape(-1,1), serie_iv_last[time].reshape(-1,1))\n",
    "\n",
    "x = np.linspace(serie_rodada_last[time].min(), serie_rodada_last[time].max())\n",
    "y = reg.predict(x.reshape(-1,1))\n",
    "\n",
    "plt.figure(figsize=(15,8))\n",
    "plt.plot(serie_rodada_last[time], serie_iv_last[time],label = time)\n",
    "plt.plot(x, y, '--', label = time + ' (regression)')\n",
    "plt.legend()\n",
    "plt.xlabel('rodada')\n",
    "plt.ylabel('iv')"
   ]
  },
  {
   "cell_type": "code",
   "execution_count": 230,
   "metadata": {},
   "outputs": [
    {
     "data": {
      "text/plain": [
       "Text(0, 0.5, 'renda_L')"
      ]
     },
     "execution_count": 230,
     "metadata": {},
     "output_type": "execute_result"
    },
    {
     "data": {
      "image/png": "[encoded data removed]",
      "text/plain": [
       "<Figure size 1080x576 with 1 Axes>"
      ]
     },
     "metadata": {
      "needs_background": "light"
     },
     "output_type": "display_data"
    }
   ],
   "source": [
    "time = 'Corinthians-SP'\n",
    "reg = LinearRegression()\n",
    "reg.fit(serie_rodada_last[time].reshape(-1,1), serie_renda_L_last[time].reshape(-1,1))\n",
    "\n",
    "x = np.linspace(serie_rodada_last[time].min(), serie_rodada_last[time].max())\n",
    "y = reg.predict(x.reshape(-1,1))\n",
    "\n",
    "plt.figure(figsize=(15,8))\n",
    "plt.plot(serie_rodada_last[time], serie_renda_L_last[time],label = time)\n",
    "plt.plot(x, y, '--', label = time + ' (regression)')\n",
    "plt.legend()\n",
    "plt.xlabel('rodada')\n",
    "plt.ylabel('renda_L')"
   ]
  },
  {
   "cell_type": "code",
   "execution_count": 231,
   "metadata": {},
   "outputs": [],
   "source": [
    "regs_iv_last = {}\n",
    "regs_renda_L_last = {}\n",
    "for time in base_last['visitante'].unique():\n",
    "    regs_iv_last[time] = LinearRegression()\n",
    "    regs_iv_last[time].fit(serie_rodada_last[time].reshape(-1,1), serie_iv_last[time].reshape(-1,1))\n",
    "    \n",
    "    regs_renda_L_last[time] = LinearRegression()\n",
    "    regs_renda_L_last[time].fit(serie_rodada_last[time].reshape(-1,1), serie_renda_L_last[time].reshape(-1,1))"
   ]
  },
  {
   "cell_type": "code",
   "execution_count": 232,
   "metadata": {},
   "outputs": [],
   "source": [
    "PCTG = 0.2\n",
    "\n",
    "tabela_last = pd.DataFrame({'time' : base_last['visitante'].unique()})\n",
    "ivs_media = []\n",
    "rendas_media = []\n",
    "ivs_tend = []\n",
    "rendas_tend = []\n",
    "for time in base_last['visitante'].unique():\n",
    "    ivs_media.append(serie_iv_last[time].mean()*PCTG)\n",
    "    rendas_media.append(serie_renda_L_last[time].mean()*PCTG)\n",
    "    ivs_tend.append(regs_iv_last[time].coef_[0][0])\n",
    "    rendas_tend.append(regs_renda_L_last[time].coef_[0][0])\n",
    "tabela_last['IV [por jogo]'] = ivs_media\n",
    "tabela_last['TEND IV'] = ivs_tend\n",
    "tabela_last['RENDA LIQ [por jogo]'] = rendas_media\n",
    "tabela_last['TEND RENDA LIQ'] = rendas_tend"
   ]
  },
  {
   "cell_type": "code",
   "execution_count": 233,
   "metadata": {},
   "outputs": [
    {
     "name": "stderr",
     "output_type": "stream",
     "text": [
      "/home/lucasnseq/anaconda3/lib/python3.7/site-packages/ipykernel_launcher.py:8: RuntimeWarning: divide by zero encountered in double_scalars\n",
      "  \n"
     ]
    }
   ],
   "source": [
    "tabela_last = score(tabela_last)"
   ]
  },
  {
   "cell_type": "code",
   "execution_count": 234,
   "metadata": {
    "scrolled": false
   },
   "outputs": [
    {
     "data": {
      "text/html": [
       "<div>\n",
       "<style scoped>\n",
       "    .dataframe tbody tr th:only-of-type {\n",
       "        vertical-align: middle;\n",
       "    }\n",
       "\n",
       "    .dataframe tbody tr th {\n",
       "        vertical-align: top;\n",
       "    }\n",
       "\n",
       "    .dataframe thead th {\n",
       "        text-align: right;\n",
       "    }\n",
       "</style>\n",
       "<table border=\"1\" class=\"dataframe\">\n",
       "  <thead>\n",
       "    <tr style=\"text-align: right;\">\n",
       "      <th></th>\n",
       "      <th>IV [por jogo]</th>\n",
       "      <th>TEND IV</th>\n",
       "      <th>RENDA LIQ [por jogo]</th>\n",
       "      <th>TEND RENDA LIQ</th>\n",
       "      <th>score</th>\n",
       "    </tr>\n",
       "  </thead>\n",
       "  <tbody>\n",
       "    <tr>\n",
       "      <th>count</th>\n",
       "      <td>2.000000e+01</td>\n",
       "      <td>2.000000e+01</td>\n",
       "      <td>20.000000</td>\n",
       "      <td>20.000000</td>\n",
       "      <td>20.000000</td>\n",
       "    </tr>\n",
       "    <tr>\n",
       "      <th>mean</th>\n",
       "      <td>5.145503e+06</td>\n",
       "      <td>5.517654e+05</td>\n",
       "      <td>52599.852390</td>\n",
       "      <td>-1630.644791</td>\n",
       "      <td>0.212431</td>\n",
       "    </tr>\n",
       "    <tr>\n",
       "      <th>std</th>\n",
       "      <td>4.710395e+06</td>\n",
       "      <td>1.833680e+06</td>\n",
       "      <td>31549.037925</td>\n",
       "      <td>31598.226609</td>\n",
       "      <td>0.214571</td>\n",
       "    </tr>\n",
       "    <tr>\n",
       "      <th>min</th>\n",
       "      <td>2.812689e+06</td>\n",
       "      <td>-2.453032e+06</td>\n",
       "      <td>9898.614222</td>\n",
       "      <td>-85738.066677</td>\n",
       "      <td>0.000000</td>\n",
       "    </tr>\n",
       "    <tr>\n",
       "      <th>25%</th>\n",
       "      <td>3.496083e+06</td>\n",
       "      <td>-1.999161e+05</td>\n",
       "      <td>29757.040467</td>\n",
       "      <td>-20202.845033</td>\n",
       "      <td>0.103623</td>\n",
       "    </tr>\n",
       "    <tr>\n",
       "      <th>50%</th>\n",
       "      <td>4.117040e+06</td>\n",
       "      <td>2.405828e+05</td>\n",
       "      <td>48911.742767</td>\n",
       "      <td>-4894.589455</td>\n",
       "      <td>0.183995</td>\n",
       "    </tr>\n",
       "    <tr>\n",
       "      <th>75%</th>\n",
       "      <td>4.824096e+06</td>\n",
       "      <td>6.954011e+05</td>\n",
       "      <td>71015.916350</td>\n",
       "      <td>16998.782127</td>\n",
       "      <td>0.257198</td>\n",
       "    </tr>\n",
       "    <tr>\n",
       "      <th>max</th>\n",
       "      <td>2.485893e+07</td>\n",
       "      <td>7.255993e+06</td>\n",
       "      <td>136938.660889</td>\n",
       "      <td>64815.455300</td>\n",
       "      <td>1.000000</td>\n",
       "    </tr>\n",
       "  </tbody>\n",
       "</table>\n",
       "</div>"
      ],
      "text/plain": [
       "       IV [por jogo]       TEND IV  RENDA LIQ [por jogo]  TEND RENDA LIQ  \\\n",
       "count   2.000000e+01  2.000000e+01             20.000000       20.000000   \n",
       "mean    5.145503e+06  5.517654e+05          52599.852390    -1630.644791   \n",
       "std     4.710395e+06  1.833680e+06          31549.037925    31598.226609   \n",
       "min     2.812689e+06 -2.453032e+06           9898.614222   -85738.066677   \n",
       "25%     3.496083e+06 -1.999161e+05          29757.040467   -20202.845033   \n",
       "50%     4.117040e+06  2.405828e+05          48911.742767    -4894.589455   \n",
       "75%     4.824096e+06  6.954011e+05          71015.916350    16998.782127   \n",
       "max     2.485893e+07  7.255993e+06         136938.660889    64815.455300   \n",
       "\n",
       "           score  \n",
       "count  20.000000  \n",
       "mean    0.212431  \n",
       "std     0.214571  \n",
       "min     0.000000  \n",
       "25%     0.103623  \n",
       "50%     0.183995  \n",
       "75%     0.257198  \n",
       "max     1.000000  "
      ]
     },
     "execution_count": 234,
     "metadata": {},
     "output_type": "execute_result"
    }
   ],
   "source": [
    "tabela_last.describe()"
   ]
  },
  {
   "cell_type": "markdown",
   "metadata": {},
   "source": [
    "PREDIÇÃO FINAL"
   ]
  },
  {
   "cell_type": "code",
   "execution_count": 238,
   "metadata": {},
   "outputs": [
    {
     "data": {
      "text/html": [
       "<div>\n",
       "<style scoped>\n",
       "    .dataframe tbody tr th:only-of-type {\n",
       "        vertical-align: middle;\n",
       "    }\n",
       "\n",
       "    .dataframe tbody tr th {\n",
       "        vertical-align: top;\n",
       "    }\n",
       "\n",
       "    .dataframe thead th {\n",
       "        text-align: right;\n",
       "    }\n",
       "</style>\n",
       "<table border=\"1\" class=\"dataframe\">\n",
       "  <thead>\n",
       "    <tr style=\"text-align: right;\">\n",
       "      <th></th>\n",
       "      <th>time</th>\n",
       "      <th>IV [por jogo]</th>\n",
       "      <th>TEND IV</th>\n",
       "      <th>RENDA LIQ [por jogo]</th>\n",
       "      <th>TEND RENDA LIQ</th>\n",
       "      <th>score</th>\n",
       "    </tr>\n",
       "  </thead>\n",
       "  <tbody>\n",
       "    <tr>\n",
       "      <th>2</th>\n",
       "      <td>Vitória-BA</td>\n",
       "      <td>2.485893e+07</td>\n",
       "      <td>7.255993e+06</td>\n",
       "      <td>65731.322000</td>\n",
       "      <td>64815.455300</td>\n",
       "      <td>1.000000</td>\n",
       "    </tr>\n",
       "    <tr>\n",
       "      <th>11</th>\n",
       "      <td>Palmeiras-SP</td>\n",
       "      <td>5.912956e+06</td>\n",
       "      <td>2.982610e+05</td>\n",
       "      <td>136938.660889</td>\n",
       "      <td>8455.904354</td>\n",
       "      <td>0.398493</td>\n",
       "    </tr>\n",
       "    <tr>\n",
       "      <th>6</th>\n",
       "      <td>América Mineiro-MG</td>\n",
       "      <td>4.811720e+06</td>\n",
       "      <td>1.044597e+06</td>\n",
       "      <td>69617.102800</td>\n",
       "      <td>24380.371305</td>\n",
       "      <td>0.304955</td>\n",
       "    </tr>\n",
       "    <tr>\n",
       "      <th>16</th>\n",
       "      <td>Fluminense-RJ</td>\n",
       "      <td>4.861222e+06</td>\n",
       "      <td>9.805000e+04</td>\n",
       "      <td>85388.762222</td>\n",
       "      <td>7315.519679</td>\n",
       "      <td>0.295231</td>\n",
       "    </tr>\n",
       "    <tr>\n",
       "      <th>13</th>\n",
       "      <td>Flamengo-RJ</td>\n",
       "      <td>5.310040e+06</td>\n",
       "      <td>-6.522730e+05</td>\n",
       "      <td>75212.357000</td>\n",
       "      <td>-20155.323066</td>\n",
       "      <td>0.285770</td>\n",
       "    </tr>\n",
       "  </tbody>\n",
       "</table>\n",
       "</div>"
      ],
      "text/plain": [
       "                  time  IV [por jogo]       TEND IV  RENDA LIQ [por jogo]  \\\n",
       "2           Vitória-BA   2.485893e+07  7.255993e+06          65731.322000   \n",
       "11        Palmeiras-SP   5.912956e+06  2.982610e+05         136938.660889   \n",
       "6   América Mineiro-MG   4.811720e+06  1.044597e+06          69617.102800   \n",
       "16       Fluminense-RJ   4.861222e+06  9.805000e+04          85388.762222   \n",
       "13         Flamengo-RJ   5.310040e+06 -6.522730e+05          75212.357000   \n",
       "\n",
       "    TEND RENDA LIQ     score  \n",
       "2     64815.455300  1.000000  \n",
       "11     8455.904354  0.398493  \n",
       "6     24380.371305  0.304955  \n",
       "16     7315.519679  0.295231  \n",
       "13   -20155.323066  0.285770  "
      ]
     },
     "execution_count": 238,
     "metadata": {},
     "output_type": "execute_result"
    }
   ],
   "source": [
    "tabela_last.sort_values(by = 'score', ascending=False).head(5)"
   ]
  },
  {
   "cell_type": "markdown",
   "metadata": {},
   "source": [
    "PREDIÇÃO INICIAL"
   ]
  },
  {
   "cell_type": "code",
   "execution_count": 239,
   "metadata": {},
   "outputs": [
    {
     "data": {
      "text/html": [
       "<div>\n",
       "<style scoped>\n",
       "    .dataframe tbody tr th:only-of-type {\n",
       "        vertical-align: middle;\n",
       "    }\n",
       "\n",
       "    .dataframe tbody tr th {\n",
       "        vertical-align: top;\n",
       "    }\n",
       "\n",
       "    .dataframe thead th {\n",
       "        text-align: right;\n",
       "    }\n",
       "</style>\n",
       "<table border=\"1\" class=\"dataframe\">\n",
       "  <thead>\n",
       "    <tr style=\"text-align: right;\">\n",
       "      <th></th>\n",
       "      <th>time</th>\n",
       "      <th>IV [por jogo]</th>\n",
       "      <th>TEND IV</th>\n",
       "      <th>RENDA LIQ [por jogo]</th>\n",
       "      <th>TEND RENDA LIQ</th>\n",
       "      <th>score</th>\n",
       "    </tr>\n",
       "  </thead>\n",
       "  <tbody>\n",
       "    <tr>\n",
       "      <th>15</th>\n",
       "      <td>Vasco-RJ</td>\n",
       "      <td>4.563511e+06</td>\n",
       "      <td>1.475593e+06</td>\n",
       "      <td>75567.051111</td>\n",
       "      <td>71007.315536</td>\n",
       "      <td>1.000000</td>\n",
       "    </tr>\n",
       "    <tr>\n",
       "      <th>17</th>\n",
       "      <td>Corinthians-SP</td>\n",
       "      <td>5.602356e+06</td>\n",
       "      <td>5.792028e+05</td>\n",
       "      <td>106828.385333</td>\n",
       "      <td>15621.675620</td>\n",
       "      <td>0.963377</td>\n",
       "    </tr>\n",
       "    <tr>\n",
       "      <th>0</th>\n",
       "      <td>Paraná-PR</td>\n",
       "      <td>4.205533e+06</td>\n",
       "      <td>1.652410e+06</td>\n",
       "      <td>78225.741111</td>\n",
       "      <td>60449.732035</td>\n",
       "      <td>0.952149</td>\n",
       "    </tr>\n",
       "    <tr>\n",
       "      <th>8</th>\n",
       "      <td>Flamengo-RJ</td>\n",
       "      <td>5.258800e+06</td>\n",
       "      <td>-4.695919e+05</td>\n",
       "      <td>115697.089556</td>\n",
       "      <td>-1149.135895</td>\n",
       "      <td>0.719315</td>\n",
       "    </tr>\n",
       "    <tr>\n",
       "      <th>13</th>\n",
       "      <td>São Paulo-SP</td>\n",
       "      <td>4.517760e+06</td>\n",
       "      <td>-9.730011e+04</td>\n",
       "      <td>75025.435200</td>\n",
       "      <td>6006.785175</td>\n",
       "      <td>0.697735</td>\n",
       "    </tr>\n",
       "  </tbody>\n",
       "</table>\n",
       "</div>"
      ],
      "text/plain": [
       "              time  IV [por jogo]       TEND IV  RENDA LIQ [por jogo]  \\\n",
       "15        Vasco-RJ   4.563511e+06  1.475593e+06          75567.051111   \n",
       "17  Corinthians-SP   5.602356e+06  5.792028e+05         106828.385333   \n",
       "0        Paraná-PR   4.205533e+06  1.652410e+06          78225.741111   \n",
       "8      Flamengo-RJ   5.258800e+06 -4.695919e+05         115697.089556   \n",
       "13    São Paulo-SP   4.517760e+06 -9.730011e+04          75025.435200   \n",
       "\n",
       "    TEND RENDA LIQ     score  \n",
       "15    71007.315536  1.000000  \n",
       "17    15621.675620  0.963377  \n",
       "0     60449.732035  0.952149  \n",
       "8     -1149.135895  0.719315  \n",
       "13     6006.785175  0.697735  "
      ]
     },
     "execution_count": 239,
     "metadata": {},
     "output_type": "execute_result"
    }
   ],
   "source": [
    "tabela.sort_values(by = 'score', ascending=False).head(5)"
   ]
  },
  {
   "cell_type": "markdown",
   "metadata": {},
   "source": [
    "#### 6.9 Conclusão\n",
    "\n",
    "Mudaram bastante o comportamento das variáveis nos 190 últimos jogos do campeonato, de forma que os times que parecia ser bons para serem priorisados no investimento, no final não tiveram um bom progresso nos últimos jogos."
   ]
  },
  {
   "cell_type": "code",
   "execution_count": null,
   "metadata": {},
   "outputs": [],
   "source": []
  },
  {
   "cell_type": "code",
   "execution_count": null,
   "metadata": {},
   "outputs": [],
   "source": []
  },
  {
   "cell_type": "code",
   "execution_count": null,
   "metadata": {},
   "outputs": [],
   "source": []
  }
 ],
 "metadata": {
  "kernelspec": {
   "display_name": "Python 3",
   "language": "python",
   "name": "python3"
  },
  "language_info": {
   "codemirror_mode": {
    "name": "ipython",
    "version": 3
   },
   "file_extension": ".py",
   "mimetype": "text/x-python",
   "name": "python",
   "nbconvert_exporter": "python",
   "pygments_lexer": "ipython3",
   "version": "3.7.3"
  }
 },
 "nbformat": 4,
 "nbformat_minor": 2
}
